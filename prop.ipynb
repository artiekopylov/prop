{
 "cells": [
  {
   "cell_type": "code",
   "execution_count": 554,
   "metadata": {},
   "outputs": [
    {
     "data": {
      "text/html": [
       "<style>.container { width:80% !important; }</style>"
      ],
      "text/plain": [
       "<IPython.core.display.HTML object>"
      ]
     },
     "metadata": {},
     "output_type": "display_data"
    }
   ],
   "source": [
    "import pandas as pd\n",
    "#import numpy as np\n",
    "import plotly as py\n",
    "import plotly.express as px\n",
    "import plotly.graph_objects as go\n",
    "from plotly.subplots import make_subplots\n",
    "\n",
    "from IPython.core.display import display, HTML\n",
    "display(HTML('<style>.container { width:80% !important; }</style>'))\n",
    "pd.set_option('display.max_columns', 100)\n"
   ]
  },
  {
   "cell_type": "markdown",
   "metadata": {},
   "source": [
    "# Problem definition\n",
    "1. Data mining and analysis to identify the number of Monthly Active Users\n",
    "2. define user retention and determine what the characteristics(events)"
   ]
  },
  {
   "cell_type": "markdown",
   "metadata": {},
   "source": [
    "## Read data from sources"
   ]
  },
  {
   "cell_type": "code",
   "execution_count": 391,
   "metadata": {},
   "outputs": [],
   "source": [
    "url_users = 'https://s3-ap-southeast-2.amazonaws.com/propeller-static/data_challenge/users.csv'\n",
    "url_events = 'https://s3-ap-southeast-2.amazonaws.com/propeller-static/data_challenge/events.csv'\n",
    "\n",
    "users = pd.read_csv(url_users,index_col=0)\n",
    "events = pd.read_csv(url_events)\n",
    "\n",
    "# save to csv to not download 3gb again\n",
    "events.to_csv('event.csv', index=False)\n",
    "events = pd.read_csv('event.csv')"
   ]
  },
  {
   "cell_type": "markdown",
   "metadata": {},
   "source": [
    "## Remove irrelevant fields, data clean up and transformation"
   ]
  },
  {
   "cell_type": "code",
   "execution_count": 392,
   "metadata": {},
   "outputs": [
    {
     "data": {
      "text/html": [
       "<div>\n",
       "<style scoped>\n",
       "    .dataframe tbody tr th:only-of-type {\n",
       "        vertical-align: middle;\n",
       "    }\n",
       "\n",
       "    .dataframe tbody tr th {\n",
       "        vertical-align: top;\n",
       "    }\n",
       "\n",
       "    .dataframe thead th {\n",
       "        text-align: right;\n",
       "    }\n",
       "</style>\n",
       "<table border=\"1\" class=\"dataframe\">\n",
       "  <thead>\n",
       "    <tr style=\"text-align: right;\">\n",
       "      <th></th>\n",
       "      <th>user_id</th>\n",
       "      <th>original_timestamp</th>\n",
       "      <th>context_page_search</th>\n",
       "      <th>event</th>\n",
       "      <th>event_text</th>\n",
       "    </tr>\n",
       "  </thead>\n",
       "  <tbody>\n",
       "    <tr>\n",
       "      <td>count</td>\n",
       "      <td>4.866631e+06</td>\n",
       "      <td>4866631</td>\n",
       "      <td>4824088</td>\n",
       "      <td>4866631</td>\n",
       "      <td>4866631</td>\n",
       "    </tr>\n",
       "    <tr>\n",
       "      <td>unique</td>\n",
       "      <td>NaN</td>\n",
       "      <td>4865100</td>\n",
       "      <td>38033</td>\n",
       "      <td>86</td>\n",
       "      <td>86</td>\n",
       "    </tr>\n",
       "    <tr>\n",
       "      <td>top</td>\n",
       "      <td>NaN</td>\n",
       "      <td>2018-12-04 19:40:03.537</td>\n",
       "      <td>?project=prad7bb3e1&amp;dataSet=ds3c344196</td>\n",
       "      <td>set_annotations_visibility</td>\n",
       "      <td>Set Annotations Visibility</td>\n",
       "    </tr>\n",
       "    <tr>\n",
       "      <td>freq</td>\n",
       "      <td>NaN</td>\n",
       "      <td>3</td>\n",
       "      <td>112618</td>\n",
       "      <td>790328</td>\n",
       "      <td>790328</td>\n",
       "    </tr>\n",
       "    <tr>\n",
       "      <td>mean</td>\n",
       "      <td>1.417033e+04</td>\n",
       "      <td>NaN</td>\n",
       "      <td>NaN</td>\n",
       "      <td>NaN</td>\n",
       "      <td>NaN</td>\n",
       "    </tr>\n",
       "    <tr>\n",
       "      <td>std</td>\n",
       "      <td>5.247930e+03</td>\n",
       "      <td>NaN</td>\n",
       "      <td>NaN</td>\n",
       "      <td>NaN</td>\n",
       "      <td>NaN</td>\n",
       "    </tr>\n",
       "    <tr>\n",
       "      <td>min</td>\n",
       "      <td>1.000000e+00</td>\n",
       "      <td>NaN</td>\n",
       "      <td>NaN</td>\n",
       "      <td>NaN</td>\n",
       "      <td>NaN</td>\n",
       "    </tr>\n",
       "    <tr>\n",
       "      <td>25%</td>\n",
       "      <td>1.124500e+04</td>\n",
       "      <td>NaN</td>\n",
       "      <td>NaN</td>\n",
       "      <td>NaN</td>\n",
       "      <td>NaN</td>\n",
       "    </tr>\n",
       "    <tr>\n",
       "      <td>50%</td>\n",
       "      <td>1.570600e+04</td>\n",
       "      <td>NaN</td>\n",
       "      <td>NaN</td>\n",
       "      <td>NaN</td>\n",
       "      <td>NaN</td>\n",
       "    </tr>\n",
       "    <tr>\n",
       "      <td>75%</td>\n",
       "      <td>1.811400e+04</td>\n",
       "      <td>NaN</td>\n",
       "      <td>NaN</td>\n",
       "      <td>NaN</td>\n",
       "      <td>NaN</td>\n",
       "    </tr>\n",
       "    <tr>\n",
       "      <td>max</td>\n",
       "      <td>2.138300e+04</td>\n",
       "      <td>NaN</td>\n",
       "      <td>NaN</td>\n",
       "      <td>NaN</td>\n",
       "      <td>NaN</td>\n",
       "    </tr>\n",
       "  </tbody>\n",
       "</table>\n",
       "</div>"
      ],
      "text/plain": [
       "             user_id       original_timestamp  \\\n",
       "count   4.866631e+06                  4866631   \n",
       "unique           NaN                  4865100   \n",
       "top              NaN  2018-12-04 19:40:03.537   \n",
       "freq             NaN                        3   \n",
       "mean    1.417033e+04                      NaN   \n",
       "std     5.247930e+03                      NaN   \n",
       "min     1.000000e+00                      NaN   \n",
       "25%     1.124500e+04                      NaN   \n",
       "50%     1.570600e+04                      NaN   \n",
       "75%     1.811400e+04                      NaN   \n",
       "max     2.138300e+04                      NaN   \n",
       "\n",
       "                           context_page_search                       event  \\\n",
       "count                                  4824088                     4866631   \n",
       "unique                                   38033                          86   \n",
       "top     ?project=prad7bb3e1&dataSet=ds3c344196  set_annotations_visibility   \n",
       "freq                                    112618                      790328   \n",
       "mean                                       NaN                         NaN   \n",
       "std                                        NaN                         NaN   \n",
       "min                                        NaN                         NaN   \n",
       "25%                                        NaN                         NaN   \n",
       "50%                                        NaN                         NaN   \n",
       "75%                                        NaN                         NaN   \n",
       "max                                        NaN                         NaN   \n",
       "\n",
       "                        event_text  \n",
       "count                      4866631  \n",
       "unique                          86  \n",
       "top     Set Annotations Visibility  \n",
       "freq                        790328  \n",
       "mean                           NaN  \n",
       "std                            NaN  \n",
       "min                            NaN  \n",
       "25%                            NaN  \n",
       "50%                            NaN  \n",
       "75%                            NaN  \n",
       "max                            NaN  "
      ]
     },
     "execution_count": 392,
     "metadata": {},
     "output_type": "execute_result"
    }
   ],
   "source": [
    "events.describe(include='all')"
   ]
  },
  {
   "cell_type": "code",
   "execution_count": 393,
   "metadata": {},
   "outputs": [],
   "source": [
    "# all other fields considered irrelevant for the task based on their uniqueness and context. \n",
    "events = events[[\n",
    "    'user_id',\n",
    "    'original_timestamp',\n",
    "    'event',\n",
    "]]\n",
    "\n",
    "# dropping events with NA in user_id \n",
    "events = events.dropna(subset=['user_id'])"
   ]
  },
  {
   "cell_type": "code",
   "execution_count": 394,
   "metadata": {},
   "outputs": [],
   "source": [
    "all_merged = events.merge(users, how='left', left_on='user_id', right_on=users.index)"
   ]
  },
  {
   "cell_type": "code",
   "execution_count": null,
   "metadata": {},
   "outputs": [],
   "source": [
    "all_merged_time_index = all_merged.set_index(pd.DatetimeIndex(all_merged['original_timestamp'])).drop(['original_timestamp','context_page_search','event_text'], axis=1)"
   ]
  },
  {
   "cell_type": "code",
   "execution_count": 396,
   "metadata": {},
   "outputs": [
    {
     "data": {
      "text/html": [
       "<div>\n",
       "<style scoped>\n",
       "    .dataframe tbody tr th:only-of-type {\n",
       "        vertical-align: middle;\n",
       "    }\n",
       "\n",
       "    .dataframe tbody tr th {\n",
       "        vertical-align: top;\n",
       "    }\n",
       "\n",
       "    .dataframe thead th {\n",
       "        text-align: right;\n",
       "    }\n",
       "</style>\n",
       "<table border=\"1\" class=\"dataframe\">\n",
       "  <thead>\n",
       "    <tr style=\"text-align: right;\">\n",
       "      <th></th>\n",
       "      <th>user_id</th>\n",
       "      <th>event</th>\n",
       "      <th>date_joined</th>\n",
       "    </tr>\n",
       "    <tr>\n",
       "      <th>original_timestamp</th>\n",
       "      <th></th>\n",
       "      <th></th>\n",
       "      <th></th>\n",
       "    </tr>\n",
       "  </thead>\n",
       "  <tbody>\n",
       "    <tr>\n",
       "      <td>2018-10-24 05:28:05.565</td>\n",
       "      <td>15689.0</td>\n",
       "      <td>timeline_selection</td>\n",
       "      <td>2018-07-02 12:52:40.606304+00</td>\n",
       "    </tr>\n",
       "    <tr>\n",
       "      <td>2018-10-24 05:28:14.603</td>\n",
       "      <td>14554.0</td>\n",
       "      <td>created_annotation</td>\n",
       "      <td>2018-05-02 02:31:12.513304+00</td>\n",
       "    </tr>\n",
       "    <tr>\n",
       "      <td>2018-10-24 05:28:14.695</td>\n",
       "      <td>14554.0</td>\n",
       "      <td>select_only</td>\n",
       "      <td>2018-05-02 02:31:12.513304+00</td>\n",
       "    </tr>\n",
       "    <tr>\n",
       "      <td>2018-10-24 05:28:55.394</td>\n",
       "      <td>14554.0</td>\n",
       "      <td>select_only</td>\n",
       "      <td>2018-05-02 02:31:12.513304+00</td>\n",
       "    </tr>\n",
       "    <tr>\n",
       "      <td>2018-10-24 05:29:26.516</td>\n",
       "      <td>14554.0</td>\n",
       "      <td>set_annotations_visibility</td>\n",
       "      <td>2018-05-02 02:31:12.513304+00</td>\n",
       "    </tr>\n",
       "    <tr>\n",
       "      <td>...</td>\n",
       "      <td>...</td>\n",
       "      <td>...</td>\n",
       "      <td>...</td>\n",
       "    </tr>\n",
       "    <tr>\n",
       "      <td>2019-04-24 04:54:15.719</td>\n",
       "      <td>20829.0</td>\n",
       "      <td>toggle_layer_visibility</td>\n",
       "      <td>2019-04-01 06:09:10.948459+00</td>\n",
       "    </tr>\n",
       "    <tr>\n",
       "      <td>2019-04-24 04:54:32.390</td>\n",
       "      <td>20829.0</td>\n",
       "      <td>toggle_layer_visibility</td>\n",
       "      <td>2019-04-01 06:09:10.948459+00</td>\n",
       "    </tr>\n",
       "    <tr>\n",
       "      <td>2019-04-24 04:55:09.734</td>\n",
       "      <td>19749.0</td>\n",
       "      <td>toggled_pane_layer</td>\n",
       "      <td>2019-02-18 00:49:11.325823+00</td>\n",
       "    </tr>\n",
       "    <tr>\n",
       "      <td>2019-04-24 04:55:09.700</td>\n",
       "      <td>19749.0</td>\n",
       "      <td>set_annotation_visibility</td>\n",
       "      <td>2019-02-18 00:49:11.325823+00</td>\n",
       "    </tr>\n",
       "    <tr>\n",
       "      <td>2019-04-24 04:55:09.723</td>\n",
       "      <td>19749.0</td>\n",
       "      <td>set_pane_visibility</td>\n",
       "      <td>2019-02-18 00:49:11.325823+00</td>\n",
       "    </tr>\n",
       "  </tbody>\n",
       "</table>\n",
       "<p>4866631 rows × 3 columns</p>\n",
       "</div>"
      ],
      "text/plain": [
       "                         user_id                       event  \\\n",
       "original_timestamp                                             \n",
       "2018-10-24 05:28:05.565  15689.0          timeline_selection   \n",
       "2018-10-24 05:28:14.603  14554.0          created_annotation   \n",
       "2018-10-24 05:28:14.695  14554.0                 select_only   \n",
       "2018-10-24 05:28:55.394  14554.0                 select_only   \n",
       "2018-10-24 05:29:26.516  14554.0  set_annotations_visibility   \n",
       "...                          ...                         ...   \n",
       "2019-04-24 04:54:15.719  20829.0     toggle_layer_visibility   \n",
       "2019-04-24 04:54:32.390  20829.0     toggle_layer_visibility   \n",
       "2019-04-24 04:55:09.734  19749.0          toggled_pane_layer   \n",
       "2019-04-24 04:55:09.700  19749.0   set_annotation_visibility   \n",
       "2019-04-24 04:55:09.723  19749.0         set_pane_visibility   \n",
       "\n",
       "                                           date_joined  \n",
       "original_timestamp                                      \n",
       "2018-10-24 05:28:05.565  2018-07-02 12:52:40.606304+00  \n",
       "2018-10-24 05:28:14.603  2018-05-02 02:31:12.513304+00  \n",
       "2018-10-24 05:28:14.695  2018-05-02 02:31:12.513304+00  \n",
       "2018-10-24 05:28:55.394  2018-05-02 02:31:12.513304+00  \n",
       "2018-10-24 05:29:26.516  2018-05-02 02:31:12.513304+00  \n",
       "...                                                ...  \n",
       "2019-04-24 04:54:15.719  2019-04-01 06:09:10.948459+00  \n",
       "2019-04-24 04:54:32.390  2019-04-01 06:09:10.948459+00  \n",
       "2019-04-24 04:55:09.734  2019-02-18 00:49:11.325823+00  \n",
       "2019-04-24 04:55:09.700  2019-02-18 00:49:11.325823+00  \n",
       "2019-04-24 04:55:09.723  2019-02-18 00:49:11.325823+00  \n",
       "\n",
       "[4866631 rows x 3 columns]"
      ]
     },
     "execution_count": 396,
     "metadata": {},
     "output_type": "execute_result"
    }
   ],
   "source": [
    "all_merged_time_index"
   ]
  },
  {
   "cell_type": "markdown",
   "metadata": {},
   "source": [
    "## Figure out Monthly Active Users\n",
    "Users with at least one event during a month - considered as active"
   ]
  },
  {
   "cell_type": "code",
   "execution_count": 397,
   "metadata": {},
   "outputs": [
    {
     "data": {
      "text/plain": [
       "original_timestamp\n",
       "2018-10-31     797\n",
       "2018-11-30    1494\n",
       "2018-12-31    1378\n",
       "2019-01-31    1613\n",
       "2019-02-28    1658\n",
       "2019-03-31    1985\n",
       "2019-04-30    1895\n",
       "Freq: M, Name: user_id, dtype: int64"
      ]
     },
     "execution_count": 397,
     "metadata": {},
     "output_type": "execute_result"
    }
   ],
   "source": [
    "grouped_df_users = all_merged_time_index.groupby(pd.Grouper(freq='M'))['user_id'].nunique()\n",
    "grouped_df_users"
   ]
  },
  {
   "cell_type": "code",
   "execution_count": 407,
   "metadata": {},
   "outputs": [
    {
     "data": {
      "application/vnd.plotly.v1+json": {
       "config": {
        "plotlyServerURL": "https://plot.ly"
       },
       "data": [
        {
         "alignmentgroup": "True",
         "hovertemplate": "Month=%{x}<br>User Quantity=%{y}<extra></extra>",
         "legendgroup": "",
         "marker": {
          "color": "#636efa"
         },
         "name": "",
         "offsetgroup": "",
         "orientation": "v",
         "showlegend": false,
         "textposition": "auto",
         "type": "bar",
         "x": [
          "2018-10-31T00:00:00",
          "2018-11-30T00:00:00",
          "2018-12-31T00:00:00",
          "2019-01-31T00:00:00",
          "2019-02-28T00:00:00",
          "2019-03-31T00:00:00",
          "2019-04-30T00:00:00"
         ],
         "xaxis": "x",
         "y": [
          797,
          1494,
          1378,
          1613,
          1658,
          1985,
          1895
         ],
         "yaxis": "y"
        }
       ],
       "layout": {
        "barmode": "relative",
        "legend": {
         "tracegroupgap": 0
        },
        "template": {
         "data": {
          "bar": [
           {
            "error_x": {
             "color": "#2a3f5f"
            },
            "error_y": {
             "color": "#2a3f5f"
            },
            "marker": {
             "line": {
              "color": "#E5ECF6",
              "width": 0.5
             }
            },
            "type": "bar"
           }
          ],
          "barpolar": [
           {
            "marker": {
             "line": {
              "color": "#E5ECF6",
              "width": 0.5
             }
            },
            "type": "barpolar"
           }
          ],
          "carpet": [
           {
            "aaxis": {
             "endlinecolor": "#2a3f5f",
             "gridcolor": "white",
             "linecolor": "white",
             "minorgridcolor": "white",
             "startlinecolor": "#2a3f5f"
            },
            "baxis": {
             "endlinecolor": "#2a3f5f",
             "gridcolor": "white",
             "linecolor": "white",
             "minorgridcolor": "white",
             "startlinecolor": "#2a3f5f"
            },
            "type": "carpet"
           }
          ],
          "choropleth": [
           {
            "colorbar": {
             "outlinewidth": 0,
             "ticks": ""
            },
            "type": "choropleth"
           }
          ],
          "contour": [
           {
            "colorbar": {
             "outlinewidth": 0,
             "ticks": ""
            },
            "colorscale": [
             [
              0,
              "#0d0887"
             ],
             [
              0.1111111111111111,
              "#46039f"
             ],
             [
              0.2222222222222222,
              "#7201a8"
             ],
             [
              0.3333333333333333,
              "#9c179e"
             ],
             [
              0.4444444444444444,
              "#bd3786"
             ],
             [
              0.5555555555555556,
              "#d8576b"
             ],
             [
              0.6666666666666666,
              "#ed7953"
             ],
             [
              0.7777777777777778,
              "#fb9f3a"
             ],
             [
              0.8888888888888888,
              "#fdca26"
             ],
             [
              1,
              "#f0f921"
             ]
            ],
            "type": "contour"
           }
          ],
          "contourcarpet": [
           {
            "colorbar": {
             "outlinewidth": 0,
             "ticks": ""
            },
            "type": "contourcarpet"
           }
          ],
          "heatmap": [
           {
            "colorbar": {
             "outlinewidth": 0,
             "ticks": ""
            },
            "colorscale": [
             [
              0,
              "#0d0887"
             ],
             [
              0.1111111111111111,
              "#46039f"
             ],
             [
              0.2222222222222222,
              "#7201a8"
             ],
             [
              0.3333333333333333,
              "#9c179e"
             ],
             [
              0.4444444444444444,
              "#bd3786"
             ],
             [
              0.5555555555555556,
              "#d8576b"
             ],
             [
              0.6666666666666666,
              "#ed7953"
             ],
             [
              0.7777777777777778,
              "#fb9f3a"
             ],
             [
              0.8888888888888888,
              "#fdca26"
             ],
             [
              1,
              "#f0f921"
             ]
            ],
            "type": "heatmap"
           }
          ],
          "heatmapgl": [
           {
            "colorbar": {
             "outlinewidth": 0,
             "ticks": ""
            },
            "colorscale": [
             [
              0,
              "#0d0887"
             ],
             [
              0.1111111111111111,
              "#46039f"
             ],
             [
              0.2222222222222222,
              "#7201a8"
             ],
             [
              0.3333333333333333,
              "#9c179e"
             ],
             [
              0.4444444444444444,
              "#bd3786"
             ],
             [
              0.5555555555555556,
              "#d8576b"
             ],
             [
              0.6666666666666666,
              "#ed7953"
             ],
             [
              0.7777777777777778,
              "#fb9f3a"
             ],
             [
              0.8888888888888888,
              "#fdca26"
             ],
             [
              1,
              "#f0f921"
             ]
            ],
            "type": "heatmapgl"
           }
          ],
          "histogram": [
           {
            "marker": {
             "colorbar": {
              "outlinewidth": 0,
              "ticks": ""
             }
            },
            "type": "histogram"
           }
          ],
          "histogram2d": [
           {
            "colorbar": {
             "outlinewidth": 0,
             "ticks": ""
            },
            "colorscale": [
             [
              0,
              "#0d0887"
             ],
             [
              0.1111111111111111,
              "#46039f"
             ],
             [
              0.2222222222222222,
              "#7201a8"
             ],
             [
              0.3333333333333333,
              "#9c179e"
             ],
             [
              0.4444444444444444,
              "#bd3786"
             ],
             [
              0.5555555555555556,
              "#d8576b"
             ],
             [
              0.6666666666666666,
              "#ed7953"
             ],
             [
              0.7777777777777778,
              "#fb9f3a"
             ],
             [
              0.8888888888888888,
              "#fdca26"
             ],
             [
              1,
              "#f0f921"
             ]
            ],
            "type": "histogram2d"
           }
          ],
          "histogram2dcontour": [
           {
            "colorbar": {
             "outlinewidth": 0,
             "ticks": ""
            },
            "colorscale": [
             [
              0,
              "#0d0887"
             ],
             [
              0.1111111111111111,
              "#46039f"
             ],
             [
              0.2222222222222222,
              "#7201a8"
             ],
             [
              0.3333333333333333,
              "#9c179e"
             ],
             [
              0.4444444444444444,
              "#bd3786"
             ],
             [
              0.5555555555555556,
              "#d8576b"
             ],
             [
              0.6666666666666666,
              "#ed7953"
             ],
             [
              0.7777777777777778,
              "#fb9f3a"
             ],
             [
              0.8888888888888888,
              "#fdca26"
             ],
             [
              1,
              "#f0f921"
             ]
            ],
            "type": "histogram2dcontour"
           }
          ],
          "mesh3d": [
           {
            "colorbar": {
             "outlinewidth": 0,
             "ticks": ""
            },
            "type": "mesh3d"
           }
          ],
          "parcoords": [
           {
            "line": {
             "colorbar": {
              "outlinewidth": 0,
              "ticks": ""
             }
            },
            "type": "parcoords"
           }
          ],
          "pie": [
           {
            "automargin": true,
            "type": "pie"
           }
          ],
          "scatter": [
           {
            "marker": {
             "colorbar": {
              "outlinewidth": 0,
              "ticks": ""
             }
            },
            "type": "scatter"
           }
          ],
          "scatter3d": [
           {
            "line": {
             "colorbar": {
              "outlinewidth": 0,
              "ticks": ""
             }
            },
            "marker": {
             "colorbar": {
              "outlinewidth": 0,
              "ticks": ""
             }
            },
            "type": "scatter3d"
           }
          ],
          "scattercarpet": [
           {
            "marker": {
             "colorbar": {
              "outlinewidth": 0,
              "ticks": ""
             }
            },
            "type": "scattercarpet"
           }
          ],
          "scattergeo": [
           {
            "marker": {
             "colorbar": {
              "outlinewidth": 0,
              "ticks": ""
             }
            },
            "type": "scattergeo"
           }
          ],
          "scattergl": [
           {
            "marker": {
             "colorbar": {
              "outlinewidth": 0,
              "ticks": ""
             }
            },
            "type": "scattergl"
           }
          ],
          "scattermapbox": [
           {
            "marker": {
             "colorbar": {
              "outlinewidth": 0,
              "ticks": ""
             }
            },
            "type": "scattermapbox"
           }
          ],
          "scatterpolar": [
           {
            "marker": {
             "colorbar": {
              "outlinewidth": 0,
              "ticks": ""
             }
            },
            "type": "scatterpolar"
           }
          ],
          "scatterpolargl": [
           {
            "marker": {
             "colorbar": {
              "outlinewidth": 0,
              "ticks": ""
             }
            },
            "type": "scatterpolargl"
           }
          ],
          "scatterternary": [
           {
            "marker": {
             "colorbar": {
              "outlinewidth": 0,
              "ticks": ""
             }
            },
            "type": "scatterternary"
           }
          ],
          "surface": [
           {
            "colorbar": {
             "outlinewidth": 0,
             "ticks": ""
            },
            "colorscale": [
             [
              0,
              "#0d0887"
             ],
             [
              0.1111111111111111,
              "#46039f"
             ],
             [
              0.2222222222222222,
              "#7201a8"
             ],
             [
              0.3333333333333333,
              "#9c179e"
             ],
             [
              0.4444444444444444,
              "#bd3786"
             ],
             [
              0.5555555555555556,
              "#d8576b"
             ],
             [
              0.6666666666666666,
              "#ed7953"
             ],
             [
              0.7777777777777778,
              "#fb9f3a"
             ],
             [
              0.8888888888888888,
              "#fdca26"
             ],
             [
              1,
              "#f0f921"
             ]
            ],
            "type": "surface"
           }
          ],
          "table": [
           {
            "cells": {
             "fill": {
              "color": "#EBF0F8"
             },
             "line": {
              "color": "white"
             }
            },
            "header": {
             "fill": {
              "color": "#C8D4E3"
             },
             "line": {
              "color": "white"
             }
            },
            "type": "table"
           }
          ]
         },
         "layout": {
          "annotationdefaults": {
           "arrowcolor": "#2a3f5f",
           "arrowhead": 0,
           "arrowwidth": 1
          },
          "coloraxis": {
           "colorbar": {
            "outlinewidth": 0,
            "ticks": ""
           }
          },
          "colorscale": {
           "diverging": [
            [
             0,
             "#8e0152"
            ],
            [
             0.1,
             "#c51b7d"
            ],
            [
             0.2,
             "#de77ae"
            ],
            [
             0.3,
             "#f1b6da"
            ],
            [
             0.4,
             "#fde0ef"
            ],
            [
             0.5,
             "#f7f7f7"
            ],
            [
             0.6,
             "#e6f5d0"
            ],
            [
             0.7,
             "#b8e186"
            ],
            [
             0.8,
             "#7fbc41"
            ],
            [
             0.9,
             "#4d9221"
            ],
            [
             1,
             "#276419"
            ]
           ],
           "sequential": [
            [
             0,
             "#0d0887"
            ],
            [
             0.1111111111111111,
             "#46039f"
            ],
            [
             0.2222222222222222,
             "#7201a8"
            ],
            [
             0.3333333333333333,
             "#9c179e"
            ],
            [
             0.4444444444444444,
             "#bd3786"
            ],
            [
             0.5555555555555556,
             "#d8576b"
            ],
            [
             0.6666666666666666,
             "#ed7953"
            ],
            [
             0.7777777777777778,
             "#fb9f3a"
            ],
            [
             0.8888888888888888,
             "#fdca26"
            ],
            [
             1,
             "#f0f921"
            ]
           ],
           "sequentialminus": [
            [
             0,
             "#0d0887"
            ],
            [
             0.1111111111111111,
             "#46039f"
            ],
            [
             0.2222222222222222,
             "#7201a8"
            ],
            [
             0.3333333333333333,
             "#9c179e"
            ],
            [
             0.4444444444444444,
             "#bd3786"
            ],
            [
             0.5555555555555556,
             "#d8576b"
            ],
            [
             0.6666666666666666,
             "#ed7953"
            ],
            [
             0.7777777777777778,
             "#fb9f3a"
            ],
            [
             0.8888888888888888,
             "#fdca26"
            ],
            [
             1,
             "#f0f921"
            ]
           ]
          },
          "colorway": [
           "#636efa",
           "#EF553B",
           "#00cc96",
           "#ab63fa",
           "#FFA15A",
           "#19d3f3",
           "#FF6692",
           "#B6E880",
           "#FF97FF",
           "#FECB52"
          ],
          "font": {
           "color": "#2a3f5f"
          },
          "geo": {
           "bgcolor": "white",
           "lakecolor": "white",
           "landcolor": "#E5ECF6",
           "showlakes": true,
           "showland": true,
           "subunitcolor": "white"
          },
          "hoverlabel": {
           "align": "left"
          },
          "hovermode": "closest",
          "mapbox": {
           "style": "light"
          },
          "paper_bgcolor": "white",
          "plot_bgcolor": "#E5ECF6",
          "polar": {
           "angularaxis": {
            "gridcolor": "white",
            "linecolor": "white",
            "ticks": ""
           },
           "bgcolor": "#E5ECF6",
           "radialaxis": {
            "gridcolor": "white",
            "linecolor": "white",
            "ticks": ""
           }
          },
          "scene": {
           "xaxis": {
            "backgroundcolor": "#E5ECF6",
            "gridcolor": "white",
            "gridwidth": 2,
            "linecolor": "white",
            "showbackground": true,
            "ticks": "",
            "zerolinecolor": "white"
           },
           "yaxis": {
            "backgroundcolor": "#E5ECF6",
            "gridcolor": "white",
            "gridwidth": 2,
            "linecolor": "white",
            "showbackground": true,
            "ticks": "",
            "zerolinecolor": "white"
           },
           "zaxis": {
            "backgroundcolor": "#E5ECF6",
            "gridcolor": "white",
            "gridwidth": 2,
            "linecolor": "white",
            "showbackground": true,
            "ticks": "",
            "zerolinecolor": "white"
           }
          },
          "shapedefaults": {
           "line": {
            "color": "#2a3f5f"
           }
          },
          "ternary": {
           "aaxis": {
            "gridcolor": "white",
            "linecolor": "white",
            "ticks": ""
           },
           "baxis": {
            "gridcolor": "white",
            "linecolor": "white",
            "ticks": ""
           },
           "bgcolor": "#E5ECF6",
           "caxis": {
            "gridcolor": "white",
            "linecolor": "white",
            "ticks": ""
           }
          },
          "title": {
           "x": 0.05
          },
          "xaxis": {
           "automargin": true,
           "gridcolor": "white",
           "linecolor": "white",
           "ticks": "",
           "title": {
            "standoff": 15
           },
           "zerolinecolor": "white",
           "zerolinewidth": 2
          },
          "yaxis": {
           "automargin": true,
           "gridcolor": "white",
           "linecolor": "white",
           "ticks": "",
           "title": {
            "standoff": 15
           },
           "zerolinecolor": "white",
           "zerolinewidth": 2
          }
         }
        },
        "title": {
         "text": "Monthly Active Users"
        },
        "xaxis": {
         "anchor": "y",
         "domain": [
          0,
          1
         ],
         "title": {
          "text": "Month"
         }
        },
        "yaxis": {
         "anchor": "x",
         "domain": [
          0,
          1
         ],
         "title": {
          "text": "User Quantity"
         }
        }
       }
      },
      "text/html": [
       "<div>\n",
       "        \n",
       "        \n",
       "            <div id=\"07471b90-e403-46ef-b0b0-c824d3e65dc8\" class=\"plotly-graph-div\" style=\"height:525px; width:100%;\"></div>\n",
       "            <script type=\"text/javascript\">\n",
       "                require([\"plotly\"], function(Plotly) {\n",
       "                    window.PLOTLYENV=window.PLOTLYENV || {};\n",
       "                    \n",
       "                if (document.getElementById(\"07471b90-e403-46ef-b0b0-c824d3e65dc8\")) {\n",
       "                    Plotly.newPlot(\n",
       "                        '07471b90-e403-46ef-b0b0-c824d3e65dc8',\n",
       "                        [{\"alignmentgroup\": \"True\", \"hovertemplate\": \"Month=%{x}<br>User Quantity=%{y}<extra></extra>\", \"legendgroup\": \"\", \"marker\": {\"color\": \"#636efa\"}, \"name\": \"\", \"offsetgroup\": \"\", \"orientation\": \"v\", \"showlegend\": false, \"textposition\": \"auto\", \"type\": \"bar\", \"x\": [\"2018-10-31T00:00:00\", \"2018-11-30T00:00:00\", \"2018-12-31T00:00:00\", \"2019-01-31T00:00:00\", \"2019-02-28T00:00:00\", \"2019-03-31T00:00:00\", \"2019-04-30T00:00:00\"], \"xaxis\": \"x\", \"y\": [797, 1494, 1378, 1613, 1658, 1985, 1895], \"yaxis\": \"y\"}],\n",
       "                        {\"barmode\": \"relative\", \"legend\": {\"tracegroupgap\": 0}, \"template\": {\"data\": {\"bar\": [{\"error_x\": {\"color\": \"#2a3f5f\"}, \"error_y\": {\"color\": \"#2a3f5f\"}, \"marker\": {\"line\": {\"color\": \"#E5ECF6\", \"width\": 0.5}}, \"type\": \"bar\"}], \"barpolar\": [{\"marker\": {\"line\": {\"color\": \"#E5ECF6\", \"width\": 0.5}}, \"type\": \"barpolar\"}], \"carpet\": [{\"aaxis\": {\"endlinecolor\": \"#2a3f5f\", \"gridcolor\": \"white\", \"linecolor\": \"white\", \"minorgridcolor\": \"white\", \"startlinecolor\": \"#2a3f5f\"}, \"baxis\": {\"endlinecolor\": \"#2a3f5f\", \"gridcolor\": \"white\", \"linecolor\": \"white\", \"minorgridcolor\": \"white\", \"startlinecolor\": \"#2a3f5f\"}, \"type\": \"carpet\"}], \"choropleth\": [{\"colorbar\": {\"outlinewidth\": 0, \"ticks\": \"\"}, \"type\": \"choropleth\"}], \"contour\": [{\"colorbar\": {\"outlinewidth\": 0, \"ticks\": \"\"}, \"colorscale\": [[0.0, \"#0d0887\"], [0.1111111111111111, \"#46039f\"], [0.2222222222222222, \"#7201a8\"], [0.3333333333333333, \"#9c179e\"], [0.4444444444444444, \"#bd3786\"], [0.5555555555555556, \"#d8576b\"], [0.6666666666666666, \"#ed7953\"], [0.7777777777777778, \"#fb9f3a\"], [0.8888888888888888, \"#fdca26\"], [1.0, \"#f0f921\"]], \"type\": \"contour\"}], \"contourcarpet\": [{\"colorbar\": {\"outlinewidth\": 0, \"ticks\": \"\"}, \"type\": \"contourcarpet\"}], \"heatmap\": [{\"colorbar\": {\"outlinewidth\": 0, \"ticks\": \"\"}, \"colorscale\": [[0.0, \"#0d0887\"], [0.1111111111111111, \"#46039f\"], [0.2222222222222222, \"#7201a8\"], [0.3333333333333333, \"#9c179e\"], [0.4444444444444444, \"#bd3786\"], [0.5555555555555556, \"#d8576b\"], [0.6666666666666666, \"#ed7953\"], [0.7777777777777778, \"#fb9f3a\"], [0.8888888888888888, \"#fdca26\"], [1.0, \"#f0f921\"]], \"type\": \"heatmap\"}], \"heatmapgl\": [{\"colorbar\": {\"outlinewidth\": 0, \"ticks\": \"\"}, \"colorscale\": [[0.0, \"#0d0887\"], [0.1111111111111111, \"#46039f\"], [0.2222222222222222, \"#7201a8\"], [0.3333333333333333, \"#9c179e\"], [0.4444444444444444, \"#bd3786\"], [0.5555555555555556, \"#d8576b\"], [0.6666666666666666, \"#ed7953\"], [0.7777777777777778, \"#fb9f3a\"], [0.8888888888888888, \"#fdca26\"], [1.0, \"#f0f921\"]], \"type\": \"heatmapgl\"}], \"histogram\": [{\"marker\": {\"colorbar\": {\"outlinewidth\": 0, \"ticks\": \"\"}}, \"type\": \"histogram\"}], \"histogram2d\": [{\"colorbar\": {\"outlinewidth\": 0, \"ticks\": \"\"}, \"colorscale\": [[0.0, \"#0d0887\"], [0.1111111111111111, \"#46039f\"], [0.2222222222222222, \"#7201a8\"], [0.3333333333333333, \"#9c179e\"], [0.4444444444444444, \"#bd3786\"], [0.5555555555555556, \"#d8576b\"], [0.6666666666666666, \"#ed7953\"], [0.7777777777777778, \"#fb9f3a\"], [0.8888888888888888, \"#fdca26\"], [1.0, \"#f0f921\"]], \"type\": \"histogram2d\"}], \"histogram2dcontour\": [{\"colorbar\": {\"outlinewidth\": 0, \"ticks\": \"\"}, \"colorscale\": [[0.0, \"#0d0887\"], [0.1111111111111111, \"#46039f\"], [0.2222222222222222, \"#7201a8\"], [0.3333333333333333, \"#9c179e\"], [0.4444444444444444, \"#bd3786\"], [0.5555555555555556, \"#d8576b\"], [0.6666666666666666, \"#ed7953\"], [0.7777777777777778, \"#fb9f3a\"], [0.8888888888888888, \"#fdca26\"], [1.0, \"#f0f921\"]], \"type\": \"histogram2dcontour\"}], \"mesh3d\": [{\"colorbar\": {\"outlinewidth\": 0, \"ticks\": \"\"}, \"type\": \"mesh3d\"}], \"parcoords\": [{\"line\": {\"colorbar\": {\"outlinewidth\": 0, \"ticks\": \"\"}}, \"type\": \"parcoords\"}], \"pie\": [{\"automargin\": true, \"type\": \"pie\"}], \"scatter\": [{\"marker\": {\"colorbar\": {\"outlinewidth\": 0, \"ticks\": \"\"}}, \"type\": \"scatter\"}], \"scatter3d\": [{\"line\": {\"colorbar\": {\"outlinewidth\": 0, \"ticks\": \"\"}}, \"marker\": {\"colorbar\": {\"outlinewidth\": 0, \"ticks\": \"\"}}, \"type\": \"scatter3d\"}], \"scattercarpet\": [{\"marker\": {\"colorbar\": {\"outlinewidth\": 0, \"ticks\": \"\"}}, \"type\": \"scattercarpet\"}], \"scattergeo\": [{\"marker\": {\"colorbar\": {\"outlinewidth\": 0, \"ticks\": \"\"}}, \"type\": \"scattergeo\"}], \"scattergl\": [{\"marker\": {\"colorbar\": {\"outlinewidth\": 0, \"ticks\": \"\"}}, \"type\": \"scattergl\"}], \"scattermapbox\": [{\"marker\": {\"colorbar\": {\"outlinewidth\": 0, \"ticks\": \"\"}}, \"type\": \"scattermapbox\"}], \"scatterpolar\": [{\"marker\": {\"colorbar\": {\"outlinewidth\": 0, \"ticks\": \"\"}}, \"type\": \"scatterpolar\"}], \"scatterpolargl\": [{\"marker\": {\"colorbar\": {\"outlinewidth\": 0, \"ticks\": \"\"}}, \"type\": \"scatterpolargl\"}], \"scatterternary\": [{\"marker\": {\"colorbar\": {\"outlinewidth\": 0, \"ticks\": \"\"}}, \"type\": \"scatterternary\"}], \"surface\": [{\"colorbar\": {\"outlinewidth\": 0, \"ticks\": \"\"}, \"colorscale\": [[0.0, \"#0d0887\"], [0.1111111111111111, \"#46039f\"], [0.2222222222222222, \"#7201a8\"], [0.3333333333333333, \"#9c179e\"], [0.4444444444444444, \"#bd3786\"], [0.5555555555555556, \"#d8576b\"], [0.6666666666666666, \"#ed7953\"], [0.7777777777777778, \"#fb9f3a\"], [0.8888888888888888, \"#fdca26\"], [1.0, \"#f0f921\"]], \"type\": \"surface\"}], \"table\": [{\"cells\": {\"fill\": {\"color\": \"#EBF0F8\"}, \"line\": {\"color\": \"white\"}}, \"header\": {\"fill\": {\"color\": \"#C8D4E3\"}, \"line\": {\"color\": \"white\"}}, \"type\": \"table\"}]}, \"layout\": {\"annotationdefaults\": {\"arrowcolor\": \"#2a3f5f\", \"arrowhead\": 0, \"arrowwidth\": 1}, \"coloraxis\": {\"colorbar\": {\"outlinewidth\": 0, \"ticks\": \"\"}}, \"colorscale\": {\"diverging\": [[0, \"#8e0152\"], [0.1, \"#c51b7d\"], [0.2, \"#de77ae\"], [0.3, \"#f1b6da\"], [0.4, \"#fde0ef\"], [0.5, \"#f7f7f7\"], [0.6, \"#e6f5d0\"], [0.7, \"#b8e186\"], [0.8, \"#7fbc41\"], [0.9, \"#4d9221\"], [1, \"#276419\"]], \"sequential\": [[0.0, \"#0d0887\"], [0.1111111111111111, \"#46039f\"], [0.2222222222222222, \"#7201a8\"], [0.3333333333333333, \"#9c179e\"], [0.4444444444444444, \"#bd3786\"], [0.5555555555555556, \"#d8576b\"], [0.6666666666666666, \"#ed7953\"], [0.7777777777777778, \"#fb9f3a\"], [0.8888888888888888, \"#fdca26\"], [1.0, \"#f0f921\"]], \"sequentialminus\": [[0.0, \"#0d0887\"], [0.1111111111111111, \"#46039f\"], [0.2222222222222222, \"#7201a8\"], [0.3333333333333333, \"#9c179e\"], [0.4444444444444444, \"#bd3786\"], [0.5555555555555556, \"#d8576b\"], [0.6666666666666666, \"#ed7953\"], [0.7777777777777778, \"#fb9f3a\"], [0.8888888888888888, \"#fdca26\"], [1.0, \"#f0f921\"]]}, \"colorway\": [\"#636efa\", \"#EF553B\", \"#00cc96\", \"#ab63fa\", \"#FFA15A\", \"#19d3f3\", \"#FF6692\", \"#B6E880\", \"#FF97FF\", \"#FECB52\"], \"font\": {\"color\": \"#2a3f5f\"}, \"geo\": {\"bgcolor\": \"white\", \"lakecolor\": \"white\", \"landcolor\": \"#E5ECF6\", \"showlakes\": true, \"showland\": true, \"subunitcolor\": \"white\"}, \"hoverlabel\": {\"align\": \"left\"}, \"hovermode\": \"closest\", \"mapbox\": {\"style\": \"light\"}, \"paper_bgcolor\": \"white\", \"plot_bgcolor\": \"#E5ECF6\", \"polar\": {\"angularaxis\": {\"gridcolor\": \"white\", \"linecolor\": \"white\", \"ticks\": \"\"}, \"bgcolor\": \"#E5ECF6\", \"radialaxis\": {\"gridcolor\": \"white\", \"linecolor\": \"white\", \"ticks\": \"\"}}, \"scene\": {\"xaxis\": {\"backgroundcolor\": \"#E5ECF6\", \"gridcolor\": \"white\", \"gridwidth\": 2, \"linecolor\": \"white\", \"showbackground\": true, \"ticks\": \"\", \"zerolinecolor\": \"white\"}, \"yaxis\": {\"backgroundcolor\": \"#E5ECF6\", \"gridcolor\": \"white\", \"gridwidth\": 2, \"linecolor\": \"white\", \"showbackground\": true, \"ticks\": \"\", \"zerolinecolor\": \"white\"}, \"zaxis\": {\"backgroundcolor\": \"#E5ECF6\", \"gridcolor\": \"white\", \"gridwidth\": 2, \"linecolor\": \"white\", \"showbackground\": true, \"ticks\": \"\", \"zerolinecolor\": \"white\"}}, \"shapedefaults\": {\"line\": {\"color\": \"#2a3f5f\"}}, \"ternary\": {\"aaxis\": {\"gridcolor\": \"white\", \"linecolor\": \"white\", \"ticks\": \"\"}, \"baxis\": {\"gridcolor\": \"white\", \"linecolor\": \"white\", \"ticks\": \"\"}, \"bgcolor\": \"#E5ECF6\", \"caxis\": {\"gridcolor\": \"white\", \"linecolor\": \"white\", \"ticks\": \"\"}}, \"title\": {\"x\": 0.05}, \"xaxis\": {\"automargin\": true, \"gridcolor\": \"white\", \"linecolor\": \"white\", \"ticks\": \"\", \"title\": {\"standoff\": 15}, \"zerolinecolor\": \"white\", \"zerolinewidth\": 2}, \"yaxis\": {\"automargin\": true, \"gridcolor\": \"white\", \"linecolor\": \"white\", \"ticks\": \"\", \"title\": {\"standoff\": 15}, \"zerolinecolor\": \"white\", \"zerolinewidth\": 2}}}, \"title\": {\"text\": \"Monthly Active Users\"}, \"xaxis\": {\"anchor\": \"y\", \"domain\": [0.0, 1.0], \"title\": {\"text\": \"Month\"}}, \"yaxis\": {\"anchor\": \"x\", \"domain\": [0.0, 1.0], \"title\": {\"text\": \"User Quantity\"}}},\n",
       "                        {\"responsive\": true}\n",
       "                    ).then(function(){\n",
       "                            \n",
       "var gd = document.getElementById('07471b90-e403-46ef-b0b0-c824d3e65dc8');\n",
       "var x = new MutationObserver(function (mutations, observer) {{\n",
       "        var display = window.getComputedStyle(gd).display;\n",
       "        if (!display || display === 'none') {{\n",
       "            console.log([gd, 'removed!']);\n",
       "            Plotly.purge(gd);\n",
       "            observer.disconnect();\n",
       "        }}\n",
       "}});\n",
       "\n",
       "// Listen for the removal of the full notebook cells\n",
       "var notebookContainer = gd.closest('#notebook-container');\n",
       "if (notebookContainer) {{\n",
       "    x.observe(notebookContainer, {childList: true});\n",
       "}}\n",
       "\n",
       "// Listen for the clearing of the current output cell\n",
       "var outputEl = gd.closest('.output');\n",
       "if (outputEl) {{\n",
       "    x.observe(outputEl, {childList: true});\n",
       "}}\n",
       "\n",
       "                        })\n",
       "                };\n",
       "                });\n",
       "            </script>\n",
       "        </div>"
      ]
     },
     "metadata": {},
     "output_type": "display_data"
    }
   ],
   "source": [
    "fig_users = px.bar(\n",
    "    grouped_df_users, \n",
    "    x=grouped_df_users.index, \n",
    "    y=grouped_df_users.values,\n",
    "    title=\"Monthly Active Users\",\n",
    "    labels = {\n",
    "        'x':'Month',\n",
    "        'y': 'User Quantity'\n",
    "    }\n",
    ")\n",
    "\n",
    "fig_users.show()"
   ]
  },
  {
   "cell_type": "markdown",
   "metadata": {},
   "source": [
    "## calculate events per month\n",
    "I went with assumption that user actions frequency would give an indication of user's engagement. Hence, the most repeated events would indicate what users like to do, what functionality is in demand and brings them back to using the app. "
   ]
  },
  {
   "cell_type": "code",
   "execution_count": 408,
   "metadata": {},
   "outputs": [],
   "source": [
    "grouped_df_events = all_merged_time_index.groupby([pd.Grouper(freq='M'),'event'])['event'].count().unstack()"
   ]
  },
  {
   "cell_type": "code",
   "execution_count": 412,
   "metadata": {},
   "outputs": [
    {
     "data": {
      "text/html": [
       "<div>\n",
       "<style scoped>\n",
       "    .dataframe tbody tr th:only-of-type {\n",
       "        vertical-align: middle;\n",
       "    }\n",
       "\n",
       "    .dataframe tbody tr th {\n",
       "        vertical-align: top;\n",
       "    }\n",
       "\n",
       "    .dataframe thead th {\n",
       "        text-align: right;\n",
       "    }\n",
       "</style>\n",
       "<table border=\"1\" class=\"dataframe\">\n",
       "  <thead>\n",
       "    <tr style=\"text-align: right;\">\n",
       "      <th>event</th>\n",
       "      <th>annotation_template_selected</th>\n",
       "      <th>archive_design_file_layer</th>\n",
       "      <th>change_annotation_template</th>\n",
       "      <th>chart_add_data_set</th>\n",
       "      <th>chart_remove_data_set</th>\n",
       "      <th>close_material_properties_modal</th>\n",
       "      <th>compass_interact_orbit</th>\n",
       "      <th>compass_interact_rotate</th>\n",
       "      <th>copied_measurement_to_current_dataset</th>\n",
       "      <th>copied_to_all_datasets</th>\n",
       "      <th>copied_to_dataset</th>\n",
       "      <th>copy_annotation_share_link</th>\n",
       "      <th>created_annotation</th>\n",
       "      <th>delete_dataset</th>\n",
       "      <th>delete_site</th>\n",
       "      <th>deleted_annotation</th>\n",
       "      <th>download_csv</th>\n",
       "      <th>download_design_file_source</th>\n",
       "      <th>download_elevation_heights_csv</th>\n",
       "      <th>download_selected_annotation_shape</th>\n",
       "      <th>download_source_photo</th>\n",
       "      <th>edited_annotation_template_saved</th>\n",
       "      <th>entered_into_edit_shape_state</th>\n",
       "      <th>exit_edit_shape_state</th>\n",
       "      <th>finish_onboarding_tour</th>\n",
       "      <th>fly_to_design_file_layer</th>\n",
       "      <th>full_screen_toggle</th>\n",
       "      <th>go_to_annotation</th>\n",
       "      <th>home_button_map_view</th>\n",
       "      <th>load_from_share</th>\n",
       "      <th>map_interact_camera</th>\n",
       "      <th>map_open_photo_pane</th>\n",
       "      <th>measurement_list_filtered</th>\n",
       "      <th>measurement_list_search</th>\n",
       "      <th>modify_design_file_layer_setting</th>\n",
       "      <th>new_annotation_template_saved</th>\n",
       "      <th>open_material_properties_modal</th>\n",
       "      <th>records_a_performance_measurement</th>\n",
       "      <th>redirected_from_app_dot</th>\n",
       "      <th>rename_design_file_layer</th>\n",
       "      <th>request_access</th>\n",
       "      <th>restore_design_file_layers</th>\n",
       "      <th>select_layer</th>\n",
       "      <th>select_only</th>\n",
       "      <th>selected_site</th>\n",
       "      <th>selected_visualiser_tool</th>\n",
       "      <th>set_annotation_category_is_collapsed</th>\n",
       "      <th>set_annotation_charted_item_id</th>\n",
       "      <th>set_annotation_visibility</th>\n",
       "      <th>set_annotation_visible_item_id</th>\n",
       "      <th>set_annotations_visibility</th>\n",
       "      <th>set_measurement_material</th>\n",
       "      <th>set_pane_visibility</th>\n",
       "      <th>set_primary_data_set</th>\n",
       "      <th>set_progress_to_design_chart_data</th>\n",
       "      <th>show_modal</th>\n",
       "      <th>skip_onboarding_tour</th>\n",
       "      <th>snapped_to_ground_checkbox_was_selected</th>\n",
       "      <th>snapped_to_ground_checkbox_was_unselected</th>\n",
       "      <th>thumbnail_selected</th>\n",
       "      <th>timeline_selection</th>\n",
       "      <th>toggle_annotation_item_calculator</th>\n",
       "      <th>toggle_annotation_item_contour</th>\n",
       "      <th>toggle_annotation_item_heat_map</th>\n",
       "      <th>toggle_contour_layers_contour</th>\n",
       "      <th>toggle_contour_layers_heat_map</th>\n",
       "      <th>toggle_layer_clamp_to_ground</th>\n",
       "      <th>toggle_layer_visibility</th>\n",
       "      <th>toggled_pane_layer</th>\n",
       "      <th>track_file_upload</th>\n",
       "      <th>track_pdf_download</th>\n",
       "      <th>update_annotation</th>\n",
       "      <th>update_contour_settings</th>\n",
       "      <th>update_dataset_name</th>\n",
       "      <th>update_layer_data_objer</th>\n",
       "      <th>update_site_name</th>\n",
       "      <th>update_user_setting</th>\n",
       "      <th>update_view_setting</th>\n",
       "      <th>visualiser_session_ended</th>\n",
       "      <th>visualiser_session_started</th>\n",
       "      <th>visualiser_time_to_interactive</th>\n",
       "      <th>volume_type_changed</th>\n",
       "      <th>zoom_in_button_in_map_view</th>\n",
       "      <th>zoom_in_button_in_photo_view</th>\n",
       "      <th>zoom_out_button_map_view</th>\n",
       "      <th>zoom_out_button_photo_view</th>\n",
       "    </tr>\n",
       "    <tr>\n",
       "      <th>original_timestamp</th>\n",
       "      <th></th>\n",
       "      <th></th>\n",
       "      <th></th>\n",
       "      <th></th>\n",
       "      <th></th>\n",
       "      <th></th>\n",
       "      <th></th>\n",
       "      <th></th>\n",
       "      <th></th>\n",
       "      <th></th>\n",
       "      <th></th>\n",
       "      <th></th>\n",
       "      <th></th>\n",
       "      <th></th>\n",
       "      <th></th>\n",
       "      <th></th>\n",
       "      <th></th>\n",
       "      <th></th>\n",
       "      <th></th>\n",
       "      <th></th>\n",
       "      <th></th>\n",
       "      <th></th>\n",
       "      <th></th>\n",
       "      <th></th>\n",
       "      <th></th>\n",
       "      <th></th>\n",
       "      <th></th>\n",
       "      <th></th>\n",
       "      <th></th>\n",
       "      <th></th>\n",
       "      <th></th>\n",
       "      <th></th>\n",
       "      <th></th>\n",
       "      <th></th>\n",
       "      <th></th>\n",
       "      <th></th>\n",
       "      <th></th>\n",
       "      <th></th>\n",
       "      <th></th>\n",
       "      <th></th>\n",
       "      <th></th>\n",
       "      <th></th>\n",
       "      <th></th>\n",
       "      <th></th>\n",
       "      <th></th>\n",
       "      <th></th>\n",
       "      <th></th>\n",
       "      <th></th>\n",
       "      <th></th>\n",
       "      <th></th>\n",
       "      <th></th>\n",
       "      <th></th>\n",
       "      <th></th>\n",
       "      <th></th>\n",
       "      <th></th>\n",
       "      <th></th>\n",
       "      <th></th>\n",
       "      <th></th>\n",
       "      <th></th>\n",
       "      <th></th>\n",
       "      <th></th>\n",
       "      <th></th>\n",
       "      <th></th>\n",
       "      <th></th>\n",
       "      <th></th>\n",
       "      <th></th>\n",
       "      <th></th>\n",
       "      <th></th>\n",
       "      <th></th>\n",
       "      <th></th>\n",
       "      <th></th>\n",
       "      <th></th>\n",
       "      <th></th>\n",
       "      <th></th>\n",
       "      <th></th>\n",
       "      <th></th>\n",
       "      <th></th>\n",
       "      <th></th>\n",
       "      <th></th>\n",
       "      <th></th>\n",
       "      <th></th>\n",
       "      <th></th>\n",
       "      <th></th>\n",
       "      <th></th>\n",
       "      <th></th>\n",
       "      <th></th>\n",
       "    </tr>\n",
       "  </thead>\n",
       "  <tbody>\n",
       "    <tr>\n",
       "      <td>2018-10-31</td>\n",
       "      <td>3390.0</td>\n",
       "      <td>NaN</td>\n",
       "      <td>325.0</td>\n",
       "      <td>499.0</td>\n",
       "      <td>159.0</td>\n",
       "      <td>105.0</td>\n",
       "      <td>1153.0</td>\n",
       "      <td>998.0</td>\n",
       "      <td>NaN</td>\n",
       "      <td>NaN</td>\n",
       "      <td>NaN</td>\n",
       "      <td>11.0</td>\n",
       "      <td>2854.0</td>\n",
       "      <td>5.0</td>\n",
       "      <td>34.0</td>\n",
       "      <td>1564.0</td>\n",
       "      <td>60.0</td>\n",
       "      <td>NaN</td>\n",
       "      <td>21.0</td>\n",
       "      <td>252.0</td>\n",
       "      <td>63.0</td>\n",
       "      <td>3.0</td>\n",
       "      <td>NaN</td>\n",
       "      <td>NaN</td>\n",
       "      <td>64.0</td>\n",
       "      <td>NaN</td>\n",
       "      <td>356.0</td>\n",
       "      <td>1959.0</td>\n",
       "      <td>1023.0</td>\n",
       "      <td>39.0</td>\n",
       "      <td>18381.0</td>\n",
       "      <td>995.0</td>\n",
       "      <td>NaN</td>\n",
       "      <td>NaN</td>\n",
       "      <td>NaN</td>\n",
       "      <td>10.0</td>\n",
       "      <td>106.0</td>\n",
       "      <td>118.0</td>\n",
       "      <td>20.0</td>\n",
       "      <td>NaN</td>\n",
       "      <td>17.0</td>\n",
       "      <td>NaN</td>\n",
       "      <td>2051.0</td>\n",
       "      <td>34676.0</td>\n",
       "      <td>1452.0</td>\n",
       "      <td>3447.0</td>\n",
       "      <td>1259.0</td>\n",
       "      <td>5.0</td>\n",
       "      <td>7538.0</td>\n",
       "      <td>5163.0</td>\n",
       "      <td>35779.0</td>\n",
       "      <td>194.0</td>\n",
       "      <td>15823.0</td>\n",
       "      <td>6767.0</td>\n",
       "      <td>NaN</td>\n",
       "      <td>1004.0</td>\n",
       "      <td>114.0</td>\n",
       "      <td>NaN</td>\n",
       "      <td>NaN</td>\n",
       "      <td>266.0</td>\n",
       "      <td>5233.0</td>\n",
       "      <td>40.0</td>\n",
       "      <td>30.0</td>\n",
       "      <td>68.0</td>\n",
       "      <td>387.0</td>\n",
       "      <td>656.0</td>\n",
       "      <td>82.0</td>\n",
       "      <td>NaN</td>\n",
       "      <td>5601.0</td>\n",
       "      <td>112.0</td>\n",
       "      <td>193.0</td>\n",
       "      <td>5229.0</td>\n",
       "      <td>1598.0</td>\n",
       "      <td>64.0</td>\n",
       "      <td>15.0</td>\n",
       "      <td>7.0</td>\n",
       "      <td>6094.0</td>\n",
       "      <td>268.0</td>\n",
       "      <td>2550.0</td>\n",
       "      <td>4927.0</td>\n",
       "      <td>2171.0</td>\n",
       "      <td>19.0</td>\n",
       "      <td>1755.0</td>\n",
       "      <td>186.0</td>\n",
       "      <td>1166.0</td>\n",
       "      <td>133.0</td>\n",
       "    </tr>\n",
       "    <tr>\n",
       "      <td>2018-11-30</td>\n",
       "      <td>12278.0</td>\n",
       "      <td>10.0</td>\n",
       "      <td>1372.0</td>\n",
       "      <td>1826.0</td>\n",
       "      <td>450.0</td>\n",
       "      <td>429.0</td>\n",
       "      <td>3526.0</td>\n",
       "      <td>2961.0</td>\n",
       "      <td>2.0</td>\n",
       "      <td>1.0</td>\n",
       "      <td>13.0</td>\n",
       "      <td>59.0</td>\n",
       "      <td>10454.0</td>\n",
       "      <td>84.0</td>\n",
       "      <td>108.0</td>\n",
       "      <td>5933.0</td>\n",
       "      <td>217.0</td>\n",
       "      <td>33.0</td>\n",
       "      <td>12.0</td>\n",
       "      <td>702.0</td>\n",
       "      <td>208.0</td>\n",
       "      <td>12.0</td>\n",
       "      <td>834.0</td>\n",
       "      <td>539.0</td>\n",
       "      <td>231.0</td>\n",
       "      <td>4.0</td>\n",
       "      <td>901.0</td>\n",
       "      <td>8680.0</td>\n",
       "      <td>3218.0</td>\n",
       "      <td>146.0</td>\n",
       "      <td>77949.0</td>\n",
       "      <td>3334.0</td>\n",
       "      <td>NaN</td>\n",
       "      <td>NaN</td>\n",
       "      <td>837.0</td>\n",
       "      <td>37.0</td>\n",
       "      <td>430.0</td>\n",
       "      <td>15.0</td>\n",
       "      <td>53.0</td>\n",
       "      <td>2.0</td>\n",
       "      <td>72.0</td>\n",
       "      <td>2.0</td>\n",
       "      <td>1930.0</td>\n",
       "      <td>107501.0</td>\n",
       "      <td>5907.0</td>\n",
       "      <td>12279.0</td>\n",
       "      <td>3480.0</td>\n",
       "      <td>NaN</td>\n",
       "      <td>26336.0</td>\n",
       "      <td>18410.0</td>\n",
       "      <td>112093.0</td>\n",
       "      <td>777.0</td>\n",
       "      <td>54095.0</td>\n",
       "      <td>25063.0</td>\n",
       "      <td>173.0</td>\n",
       "      <td>4614.0</td>\n",
       "      <td>405.0</td>\n",
       "      <td>NaN</td>\n",
       "      <td>NaN</td>\n",
       "      <td>519.0</td>\n",
       "      <td>29317.0</td>\n",
       "      <td>NaN</td>\n",
       "      <td>NaN</td>\n",
       "      <td>NaN</td>\n",
       "      <td>1377.0</td>\n",
       "      <td>2825.0</td>\n",
       "      <td>370.0</td>\n",
       "      <td>2085.0</td>\n",
       "      <td>21890.0</td>\n",
       "      <td>541.0</td>\n",
       "      <td>762.0</td>\n",
       "      <td>13397.0</td>\n",
       "      <td>5695.0</td>\n",
       "      <td>63.0</td>\n",
       "      <td>101.0</td>\n",
       "      <td>115.0</td>\n",
       "      <td>27102.0</td>\n",
       "      <td>1007.0</td>\n",
       "      <td>9379.0</td>\n",
       "      <td>18098.0</td>\n",
       "      <td>8454.0</td>\n",
       "      <td>NaN</td>\n",
       "      <td>5551.0</td>\n",
       "      <td>369.0</td>\n",
       "      <td>3327.0</td>\n",
       "      <td>195.0</td>\n",
       "    </tr>\n",
       "    <tr>\n",
       "      <td>2018-12-31</td>\n",
       "      <td>12412.0</td>\n",
       "      <td>8.0</td>\n",
       "      <td>1399.0</td>\n",
       "      <td>1572.0</td>\n",
       "      <td>428.0</td>\n",
       "      <td>339.0</td>\n",
       "      <td>3304.0</td>\n",
       "      <td>2955.0</td>\n",
       "      <td>227.0</td>\n",
       "      <td>11.0</td>\n",
       "      <td>311.0</td>\n",
       "      <td>37.0</td>\n",
       "      <td>10954.0</td>\n",
       "      <td>52.0</td>\n",
       "      <td>96.0</td>\n",
       "      <td>4902.0</td>\n",
       "      <td>195.0</td>\n",
       "      <td>57.0</td>\n",
       "      <td>15.0</td>\n",
       "      <td>745.0</td>\n",
       "      <td>541.0</td>\n",
       "      <td>2.0</td>\n",
       "      <td>4905.0</td>\n",
       "      <td>3309.0</td>\n",
       "      <td>79.0</td>\n",
       "      <td>29.0</td>\n",
       "      <td>811.0</td>\n",
       "      <td>8034.0</td>\n",
       "      <td>3778.0</td>\n",
       "      <td>135.0</td>\n",
       "      <td>66562.0</td>\n",
       "      <td>3205.0</td>\n",
       "      <td>90.0</td>\n",
       "      <td>95.0</td>\n",
       "      <td>1123.0</td>\n",
       "      <td>28.0</td>\n",
       "      <td>340.0</td>\n",
       "      <td>NaN</td>\n",
       "      <td>56.0</td>\n",
       "      <td>4.0</td>\n",
       "      <td>47.0</td>\n",
       "      <td>NaN</td>\n",
       "      <td>NaN</td>\n",
       "      <td>110472.0</td>\n",
       "      <td>5183.0</td>\n",
       "      <td>12421.0</td>\n",
       "      <td>3295.0</td>\n",
       "      <td>NaN</td>\n",
       "      <td>25685.0</td>\n",
       "      <td>17678.0</td>\n",
       "      <td>114711.0</td>\n",
       "      <td>544.0</td>\n",
       "      <td>50063.0</td>\n",
       "      <td>23293.0</td>\n",
       "      <td>758.0</td>\n",
       "      <td>3756.0</td>\n",
       "      <td>144.0</td>\n",
       "      <td>NaN</td>\n",
       "      <td>NaN</td>\n",
       "      <td>816.0</td>\n",
       "      <td>25013.0</td>\n",
       "      <td>NaN</td>\n",
       "      <td>NaN</td>\n",
       "      <td>NaN</td>\n",
       "      <td>1213.0</td>\n",
       "      <td>2754.0</td>\n",
       "      <td>209.0</td>\n",
       "      <td>14337.0</td>\n",
       "      <td>21007.0</td>\n",
       "      <td>498.0</td>\n",
       "      <td>848.0</td>\n",
       "      <td>13245.0</td>\n",
       "      <td>5145.0</td>\n",
       "      <td>66.0</td>\n",
       "      <td>51.0</td>\n",
       "      <td>76.0</td>\n",
       "      <td>27227.0</td>\n",
       "      <td>860.0</td>\n",
       "      <td>8498.0</td>\n",
       "      <td>16602.0</td>\n",
       "      <td>7901.0</td>\n",
       "      <td>NaN</td>\n",
       "      <td>5818.0</td>\n",
       "      <td>191.0</td>\n",
       "      <td>3545.0</td>\n",
       "      <td>132.0</td>\n",
       "    </tr>\n",
       "    <tr>\n",
       "      <td>2019-01-31</td>\n",
       "      <td>13923.0</td>\n",
       "      <td>49.0</td>\n",
       "      <td>1678.0</td>\n",
       "      <td>1637.0</td>\n",
       "      <td>433.0</td>\n",
       "      <td>478.0</td>\n",
       "      <td>3876.0</td>\n",
       "      <td>3427.0</td>\n",
       "      <td>183.0</td>\n",
       "      <td>14.0</td>\n",
       "      <td>478.0</td>\n",
       "      <td>51.0</td>\n",
       "      <td>12356.0</td>\n",
       "      <td>74.0</td>\n",
       "      <td>78.0</td>\n",
       "      <td>6072.0</td>\n",
       "      <td>264.0</td>\n",
       "      <td>107.0</td>\n",
       "      <td>28.0</td>\n",
       "      <td>1614.0</td>\n",
       "      <td>1451.0</td>\n",
       "      <td>13.0</td>\n",
       "      <td>6367.0</td>\n",
       "      <td>4431.0</td>\n",
       "      <td>229.0</td>\n",
       "      <td>17.0</td>\n",
       "      <td>986.0</td>\n",
       "      <td>10351.0</td>\n",
       "      <td>4088.0</td>\n",
       "      <td>156.0</td>\n",
       "      <td>78803.0</td>\n",
       "      <td>3057.0</td>\n",
       "      <td>181.0</td>\n",
       "      <td>554.0</td>\n",
       "      <td>3288.0</td>\n",
       "      <td>31.0</td>\n",
       "      <td>481.0</td>\n",
       "      <td>NaN</td>\n",
       "      <td>57.0</td>\n",
       "      <td>69.0</td>\n",
       "      <td>32.0</td>\n",
       "      <td>5.0</td>\n",
       "      <td>NaN</td>\n",
       "      <td>128146.0</td>\n",
       "      <td>6017.0</td>\n",
       "      <td>13920.0</td>\n",
       "      <td>4253.0</td>\n",
       "      <td>NaN</td>\n",
       "      <td>31919.0</td>\n",
       "      <td>20585.0</td>\n",
       "      <td>134013.0</td>\n",
       "      <td>849.0</td>\n",
       "      <td>59856.0</td>\n",
       "      <td>28085.0</td>\n",
       "      <td>897.0</td>\n",
       "      <td>5242.0</td>\n",
       "      <td>367.0</td>\n",
       "      <td>NaN</td>\n",
       "      <td>NaN</td>\n",
       "      <td>1670.0</td>\n",
       "      <td>28011.0</td>\n",
       "      <td>NaN</td>\n",
       "      <td>NaN</td>\n",
       "      <td>NaN</td>\n",
       "      <td>1515.0</td>\n",
       "      <td>3050.0</td>\n",
       "      <td>327.0</td>\n",
       "      <td>24964.0</td>\n",
       "      <td>23801.0</td>\n",
       "      <td>1645.0</td>\n",
       "      <td>842.0</td>\n",
       "      <td>17279.0</td>\n",
       "      <td>5849.0</td>\n",
       "      <td>91.0</td>\n",
       "      <td>135.0</td>\n",
       "      <td>85.0</td>\n",
       "      <td>40222.0</td>\n",
       "      <td>1129.0</td>\n",
       "      <td>9438.0</td>\n",
       "      <td>20204.0</td>\n",
       "      <td>9567.0</td>\n",
       "      <td>NaN</td>\n",
       "      <td>5682.0</td>\n",
       "      <td>191.0</td>\n",
       "      <td>3761.0</td>\n",
       "      <td>199.0</td>\n",
       "    </tr>\n",
       "    <tr>\n",
       "      <td>2019-02-28</td>\n",
       "      <td>13362.0</td>\n",
       "      <td>27.0</td>\n",
       "      <td>1226.0</td>\n",
       "      <td>1959.0</td>\n",
       "      <td>556.0</td>\n",
       "      <td>360.0</td>\n",
       "      <td>4124.0</td>\n",
       "      <td>3381.0</td>\n",
       "      <td>205.0</td>\n",
       "      <td>48.0</td>\n",
       "      <td>583.0</td>\n",
       "      <td>50.0</td>\n",
       "      <td>11366.0</td>\n",
       "      <td>101.0</td>\n",
       "      <td>54.0</td>\n",
       "      <td>6443.0</td>\n",
       "      <td>226.0</td>\n",
       "      <td>119.0</td>\n",
       "      <td>11.0</td>\n",
       "      <td>4384.0</td>\n",
       "      <td>214.0</td>\n",
       "      <td>7.0</td>\n",
       "      <td>5255.0</td>\n",
       "      <td>3323.0</td>\n",
       "      <td>267.0</td>\n",
       "      <td>41.0</td>\n",
       "      <td>804.0</td>\n",
       "      <td>9883.0</td>\n",
       "      <td>4257.0</td>\n",
       "      <td>130.0</td>\n",
       "      <td>73844.0</td>\n",
       "      <td>3448.0</td>\n",
       "      <td>117.0</td>\n",
       "      <td>707.0</td>\n",
       "      <td>3954.0</td>\n",
       "      <td>25.0</td>\n",
       "      <td>365.0</td>\n",
       "      <td>NaN</td>\n",
       "      <td>49.0</td>\n",
       "      <td>62.0</td>\n",
       "      <td>32.0</td>\n",
       "      <td>NaN</td>\n",
       "      <td>NaN</td>\n",
       "      <td>114738.0</td>\n",
       "      <td>5807.0</td>\n",
       "      <td>13362.0</td>\n",
       "      <td>4226.0</td>\n",
       "      <td>NaN</td>\n",
       "      <td>29874.0</td>\n",
       "      <td>20003.0</td>\n",
       "      <td>120284.0</td>\n",
       "      <td>645.0</td>\n",
       "      <td>57664.0</td>\n",
       "      <td>27425.0</td>\n",
       "      <td>723.0</td>\n",
       "      <td>5157.0</td>\n",
       "      <td>406.0</td>\n",
       "      <td>NaN</td>\n",
       "      <td>NaN</td>\n",
       "      <td>1083.0</td>\n",
       "      <td>32586.0</td>\n",
       "      <td>NaN</td>\n",
       "      <td>NaN</td>\n",
       "      <td>NaN</td>\n",
       "      <td>1413.0</td>\n",
       "      <td>2682.0</td>\n",
       "      <td>180.0</td>\n",
       "      <td>33678.0</td>\n",
       "      <td>22178.0</td>\n",
       "      <td>849.0</td>\n",
       "      <td>820.0</td>\n",
       "      <td>12818.0</td>\n",
       "      <td>5468.0</td>\n",
       "      <td>96.0</td>\n",
       "      <td>179.0</td>\n",
       "      <td>56.0</td>\n",
       "      <td>41773.0</td>\n",
       "      <td>1618.0</td>\n",
       "      <td>8834.0</td>\n",
       "      <td>19614.0</td>\n",
       "      <td>9002.0</td>\n",
       "      <td>NaN</td>\n",
       "      <td>6845.0</td>\n",
       "      <td>523.0</td>\n",
       "      <td>4514.0</td>\n",
       "      <td>259.0</td>\n",
       "    </tr>\n",
       "    <tr>\n",
       "      <td>2019-03-31</td>\n",
       "      <td>17852.0</td>\n",
       "      <td>60.0</td>\n",
       "      <td>1607.0</td>\n",
       "      <td>2437.0</td>\n",
       "      <td>726.0</td>\n",
       "      <td>460.0</td>\n",
       "      <td>5633.0</td>\n",
       "      <td>5032.0</td>\n",
       "      <td>187.0</td>\n",
       "      <td>20.0</td>\n",
       "      <td>599.0</td>\n",
       "      <td>67.0</td>\n",
       "      <td>15125.0</td>\n",
       "      <td>80.0</td>\n",
       "      <td>106.0</td>\n",
       "      <td>7562.0</td>\n",
       "      <td>170.0</td>\n",
       "      <td>155.0</td>\n",
       "      <td>22.0</td>\n",
       "      <td>2402.0</td>\n",
       "      <td>144.0</td>\n",
       "      <td>NaN</td>\n",
       "      <td>6886.0</td>\n",
       "      <td>4765.0</td>\n",
       "      <td>301.0</td>\n",
       "      <td>44.0</td>\n",
       "      <td>1131.0</td>\n",
       "      <td>12409.0</td>\n",
       "      <td>5145.0</td>\n",
       "      <td>128.0</td>\n",
       "      <td>110322.0</td>\n",
       "      <td>4231.0</td>\n",
       "      <td>179.0</td>\n",
       "      <td>1040.0</td>\n",
       "      <td>6933.0</td>\n",
       "      <td>40.0</td>\n",
       "      <td>477.0</td>\n",
       "      <td>NaN</td>\n",
       "      <td>50.0</td>\n",
       "      <td>94.0</td>\n",
       "      <td>91.0</td>\n",
       "      <td>NaN</td>\n",
       "      <td>NaN</td>\n",
       "      <td>149056.0</td>\n",
       "      <td>8491.0</td>\n",
       "      <td>17850.0</td>\n",
       "      <td>4983.0</td>\n",
       "      <td>NaN</td>\n",
       "      <td>38623.0</td>\n",
       "      <td>26062.0</td>\n",
       "      <td>155639.0</td>\n",
       "      <td>913.0</td>\n",
       "      <td>67807.0</td>\n",
       "      <td>34095.0</td>\n",
       "      <td>967.0</td>\n",
       "      <td>6413.0</td>\n",
       "      <td>462.0</td>\n",
       "      <td>80.0</td>\n",
       "      <td>38.0</td>\n",
       "      <td>903.0</td>\n",
       "      <td>41826.0</td>\n",
       "      <td>NaN</td>\n",
       "      <td>NaN</td>\n",
       "      <td>NaN</td>\n",
       "      <td>2071.0</td>\n",
       "      <td>3849.0</td>\n",
       "      <td>216.0</td>\n",
       "      <td>52203.0</td>\n",
       "      <td>29496.0</td>\n",
       "      <td>1218.0</td>\n",
       "      <td>1084.0</td>\n",
       "      <td>15827.0</td>\n",
       "      <td>8072.0</td>\n",
       "      <td>209.0</td>\n",
       "      <td>251.0</td>\n",
       "      <td>109.0</td>\n",
       "      <td>60143.0</td>\n",
       "      <td>2358.0</td>\n",
       "      <td>11884.0</td>\n",
       "      <td>25603.0</td>\n",
       "      <td>11673.0</td>\n",
       "      <td>NaN</td>\n",
       "      <td>8990.0</td>\n",
       "      <td>292.0</td>\n",
       "      <td>5154.0</td>\n",
       "      <td>154.0</td>\n",
       "    </tr>\n",
       "    <tr>\n",
       "      <td>2019-04-30</td>\n",
       "      <td>14264.0</td>\n",
       "      <td>60.0</td>\n",
       "      <td>1428.0</td>\n",
       "      <td>1623.0</td>\n",
       "      <td>477.0</td>\n",
       "      <td>338.0</td>\n",
       "      <td>3798.0</td>\n",
       "      <td>3641.0</td>\n",
       "      <td>209.0</td>\n",
       "      <td>2.0</td>\n",
       "      <td>259.0</td>\n",
       "      <td>18.0</td>\n",
       "      <td>12312.0</td>\n",
       "      <td>74.0</td>\n",
       "      <td>74.0</td>\n",
       "      <td>7201.0</td>\n",
       "      <td>169.0</td>\n",
       "      <td>105.0</td>\n",
       "      <td>6.0</td>\n",
       "      <td>1843.0</td>\n",
       "      <td>101.0</td>\n",
       "      <td>43.0</td>\n",
       "      <td>5379.0</td>\n",
       "      <td>3807.0</td>\n",
       "      <td>189.0</td>\n",
       "      <td>71.0</td>\n",
       "      <td>827.0</td>\n",
       "      <td>9484.0</td>\n",
       "      <td>4219.0</td>\n",
       "      <td>148.0</td>\n",
       "      <td>86044.0</td>\n",
       "      <td>2837.0</td>\n",
       "      <td>114.0</td>\n",
       "      <td>575.0</td>\n",
       "      <td>6148.0</td>\n",
       "      <td>46.0</td>\n",
       "      <td>349.0</td>\n",
       "      <td>NaN</td>\n",
       "      <td>59.0</td>\n",
       "      <td>73.0</td>\n",
       "      <td>44.0</td>\n",
       "      <td>4.0</td>\n",
       "      <td>NaN</td>\n",
       "      <td>112519.0</td>\n",
       "      <td>6537.0</td>\n",
       "      <td>14263.0</td>\n",
       "      <td>3956.0</td>\n",
       "      <td>NaN</td>\n",
       "      <td>32054.0</td>\n",
       "      <td>20908.0</td>\n",
       "      <td>117809.0</td>\n",
       "      <td>641.0</td>\n",
       "      <td>48870.0</td>\n",
       "      <td>28049.0</td>\n",
       "      <td>443.0</td>\n",
       "      <td>4933.0</td>\n",
       "      <td>325.0</td>\n",
       "      <td>94.0</td>\n",
       "      <td>54.0</td>\n",
       "      <td>641.0</td>\n",
       "      <td>32662.0</td>\n",
       "      <td>NaN</td>\n",
       "      <td>NaN</td>\n",
       "      <td>NaN</td>\n",
       "      <td>1657.0</td>\n",
       "      <td>3234.0</td>\n",
       "      <td>201.0</td>\n",
       "      <td>43821.0</td>\n",
       "      <td>24250.0</td>\n",
       "      <td>993.0</td>\n",
       "      <td>877.0</td>\n",
       "      <td>12435.0</td>\n",
       "      <td>6630.0</td>\n",
       "      <td>92.0</td>\n",
       "      <td>113.0</td>\n",
       "      <td>80.0</td>\n",
       "      <td>48030.0</td>\n",
       "      <td>1165.0</td>\n",
       "      <td>9538.0</td>\n",
       "      <td>20742.0</td>\n",
       "      <td>9250.0</td>\n",
       "      <td>NaN</td>\n",
       "      <td>7516.0</td>\n",
       "      <td>328.0</td>\n",
       "      <td>4921.0</td>\n",
       "      <td>209.0</td>\n",
       "    </tr>\n",
       "  </tbody>\n",
       "</table>\n",
       "</div>"
      ],
      "text/plain": [
       "event               annotation_template_selected  archive_design_file_layer  \\\n",
       "original_timestamp                                                            \n",
       "2018-10-31                                3390.0                        NaN   \n",
       "2018-11-30                               12278.0                       10.0   \n",
       "2018-12-31                               12412.0                        8.0   \n",
       "2019-01-31                               13923.0                       49.0   \n",
       "2019-02-28                               13362.0                       27.0   \n",
       "2019-03-31                               17852.0                       60.0   \n",
       "2019-04-30                               14264.0                       60.0   \n",
       "\n",
       "event               change_annotation_template  chart_add_data_set  \\\n",
       "original_timestamp                                                   \n",
       "2018-10-31                               325.0               499.0   \n",
       "2018-11-30                              1372.0              1826.0   \n",
       "2018-12-31                              1399.0              1572.0   \n",
       "2019-01-31                              1678.0              1637.0   \n",
       "2019-02-28                              1226.0              1959.0   \n",
       "2019-03-31                              1607.0              2437.0   \n",
       "2019-04-30                              1428.0              1623.0   \n",
       "\n",
       "event               chart_remove_data_set  close_material_properties_modal  \\\n",
       "original_timestamp                                                           \n",
       "2018-10-31                          159.0                            105.0   \n",
       "2018-11-30                          450.0                            429.0   \n",
       "2018-12-31                          428.0                            339.0   \n",
       "2019-01-31                          433.0                            478.0   \n",
       "2019-02-28                          556.0                            360.0   \n",
       "2019-03-31                          726.0                            460.0   \n",
       "2019-04-30                          477.0                            338.0   \n",
       "\n",
       "event               compass_interact_orbit  compass_interact_rotate  \\\n",
       "original_timestamp                                                    \n",
       "2018-10-31                          1153.0                    998.0   \n",
       "2018-11-30                          3526.0                   2961.0   \n",
       "2018-12-31                          3304.0                   2955.0   \n",
       "2019-01-31                          3876.0                   3427.0   \n",
       "2019-02-28                          4124.0                   3381.0   \n",
       "2019-03-31                          5633.0                   5032.0   \n",
       "2019-04-30                          3798.0                   3641.0   \n",
       "\n",
       "event               copied_measurement_to_current_dataset  \\\n",
       "original_timestamp                                          \n",
       "2018-10-31                                            NaN   \n",
       "2018-11-30                                            2.0   \n",
       "2018-12-31                                          227.0   \n",
       "2019-01-31                                          183.0   \n",
       "2019-02-28                                          205.0   \n",
       "2019-03-31                                          187.0   \n",
       "2019-04-30                                          209.0   \n",
       "\n",
       "event               copied_to_all_datasets  copied_to_dataset  \\\n",
       "original_timestamp                                              \n",
       "2018-10-31                             NaN                NaN   \n",
       "2018-11-30                             1.0               13.0   \n",
       "2018-12-31                            11.0              311.0   \n",
       "2019-01-31                            14.0              478.0   \n",
       "2019-02-28                            48.0              583.0   \n",
       "2019-03-31                            20.0              599.0   \n",
       "2019-04-30                             2.0              259.0   \n",
       "\n",
       "event               copy_annotation_share_link  created_annotation  \\\n",
       "original_timestamp                                                   \n",
       "2018-10-31                                11.0              2854.0   \n",
       "2018-11-30                                59.0             10454.0   \n",
       "2018-12-31                                37.0             10954.0   \n",
       "2019-01-31                                51.0             12356.0   \n",
       "2019-02-28                                50.0             11366.0   \n",
       "2019-03-31                                67.0             15125.0   \n",
       "2019-04-30                                18.0             12312.0   \n",
       "\n",
       "event               delete_dataset  delete_site  deleted_annotation  \\\n",
       "original_timestamp                                                    \n",
       "2018-10-31                     5.0         34.0              1564.0   \n",
       "2018-11-30                    84.0        108.0              5933.0   \n",
       "2018-12-31                    52.0         96.0              4902.0   \n",
       "2019-01-31                    74.0         78.0              6072.0   \n",
       "2019-02-28                   101.0         54.0              6443.0   \n",
       "2019-03-31                    80.0        106.0              7562.0   \n",
       "2019-04-30                    74.0         74.0              7201.0   \n",
       "\n",
       "event               download_csv  download_design_file_source  \\\n",
       "original_timestamp                                              \n",
       "2018-10-31                  60.0                          NaN   \n",
       "2018-11-30                 217.0                         33.0   \n",
       "2018-12-31                 195.0                         57.0   \n",
       "2019-01-31                 264.0                        107.0   \n",
       "2019-02-28                 226.0                        119.0   \n",
       "2019-03-31                 170.0                        155.0   \n",
       "2019-04-30                 169.0                        105.0   \n",
       "\n",
       "event               download_elevation_heights_csv  \\\n",
       "original_timestamp                                   \n",
       "2018-10-31                                    21.0   \n",
       "2018-11-30                                    12.0   \n",
       "2018-12-31                                    15.0   \n",
       "2019-01-31                                    28.0   \n",
       "2019-02-28                                    11.0   \n",
       "2019-03-31                                    22.0   \n",
       "2019-04-30                                     6.0   \n",
       "\n",
       "event               download_selected_annotation_shape  download_source_photo  \\\n",
       "original_timestamp                                                              \n",
       "2018-10-31                                       252.0                   63.0   \n",
       "2018-11-30                                       702.0                  208.0   \n",
       "2018-12-31                                       745.0                  541.0   \n",
       "2019-01-31                                      1614.0                 1451.0   \n",
       "2019-02-28                                      4384.0                  214.0   \n",
       "2019-03-31                                      2402.0                  144.0   \n",
       "2019-04-30                                      1843.0                  101.0   \n",
       "\n",
       "event               edited_annotation_template_saved  \\\n",
       "original_timestamp                                     \n",
       "2018-10-31                                       3.0   \n",
       "2018-11-30                                      12.0   \n",
       "2018-12-31                                       2.0   \n",
       "2019-01-31                                      13.0   \n",
       "2019-02-28                                       7.0   \n",
       "2019-03-31                                       NaN   \n",
       "2019-04-30                                      43.0   \n",
       "\n",
       "event               entered_into_edit_shape_state  exit_edit_shape_state  \\\n",
       "original_timestamp                                                         \n",
       "2018-10-31                                    NaN                    NaN   \n",
       "2018-11-30                                  834.0                  539.0   \n",
       "2018-12-31                                 4905.0                 3309.0   \n",
       "2019-01-31                                 6367.0                 4431.0   \n",
       "2019-02-28                                 5255.0                 3323.0   \n",
       "2019-03-31                                 6886.0                 4765.0   \n",
       "2019-04-30                                 5379.0                 3807.0   \n",
       "\n",
       "event               finish_onboarding_tour  fly_to_design_file_layer  \\\n",
       "original_timestamp                                                     \n",
       "2018-10-31                            64.0                       NaN   \n",
       "2018-11-30                           231.0                       4.0   \n",
       "2018-12-31                            79.0                      29.0   \n",
       "2019-01-31                           229.0                      17.0   \n",
       "2019-02-28                           267.0                      41.0   \n",
       "2019-03-31                           301.0                      44.0   \n",
       "2019-04-30                           189.0                      71.0   \n",
       "\n",
       "event               full_screen_toggle  go_to_annotation  \\\n",
       "original_timestamp                                         \n",
       "2018-10-31                       356.0            1959.0   \n",
       "2018-11-30                       901.0            8680.0   \n",
       "2018-12-31                       811.0            8034.0   \n",
       "2019-01-31                       986.0           10351.0   \n",
       "2019-02-28                       804.0            9883.0   \n",
       "2019-03-31                      1131.0           12409.0   \n",
       "2019-04-30                       827.0            9484.0   \n",
       "\n",
       "event               home_button_map_view  load_from_share  \\\n",
       "original_timestamp                                          \n",
       "2018-10-31                        1023.0             39.0   \n",
       "2018-11-30                        3218.0            146.0   \n",
       "2018-12-31                        3778.0            135.0   \n",
       "2019-01-31                        4088.0            156.0   \n",
       "2019-02-28                        4257.0            130.0   \n",
       "2019-03-31                        5145.0            128.0   \n",
       "2019-04-30                        4219.0            148.0   \n",
       "\n",
       "event               map_interact_camera  map_open_photo_pane  \\\n",
       "original_timestamp                                             \n",
       "2018-10-31                      18381.0                995.0   \n",
       "2018-11-30                      77949.0               3334.0   \n",
       "2018-12-31                      66562.0               3205.0   \n",
       "2019-01-31                      78803.0               3057.0   \n",
       "2019-02-28                      73844.0               3448.0   \n",
       "2019-03-31                     110322.0               4231.0   \n",
       "2019-04-30                      86044.0               2837.0   \n",
       "\n",
       "event               measurement_list_filtered  measurement_list_search  \\\n",
       "original_timestamp                                                       \n",
       "2018-10-31                                NaN                      NaN   \n",
       "2018-11-30                                NaN                      NaN   \n",
       "2018-12-31                               90.0                     95.0   \n",
       "2019-01-31                              181.0                    554.0   \n",
       "2019-02-28                              117.0                    707.0   \n",
       "2019-03-31                              179.0                   1040.0   \n",
       "2019-04-30                              114.0                    575.0   \n",
       "\n",
       "event               modify_design_file_layer_setting  \\\n",
       "original_timestamp                                     \n",
       "2018-10-31                                       NaN   \n",
       "2018-11-30                                     837.0   \n",
       "2018-12-31                                    1123.0   \n",
       "2019-01-31                                    3288.0   \n",
       "2019-02-28                                    3954.0   \n",
       "2019-03-31                                    6933.0   \n",
       "2019-04-30                                    6148.0   \n",
       "\n",
       "event               new_annotation_template_saved  \\\n",
       "original_timestamp                                  \n",
       "2018-10-31                                   10.0   \n",
       "2018-11-30                                   37.0   \n",
       "2018-12-31                                   28.0   \n",
       "2019-01-31                                   31.0   \n",
       "2019-02-28                                   25.0   \n",
       "2019-03-31                                   40.0   \n",
       "2019-04-30                                   46.0   \n",
       "\n",
       "event               open_material_properties_modal  \\\n",
       "original_timestamp                                   \n",
       "2018-10-31                                   106.0   \n",
       "2018-11-30                                   430.0   \n",
       "2018-12-31                                   340.0   \n",
       "2019-01-31                                   481.0   \n",
       "2019-02-28                                   365.0   \n",
       "2019-03-31                                   477.0   \n",
       "2019-04-30                                   349.0   \n",
       "\n",
       "event               records_a_performance_measurement  \\\n",
       "original_timestamp                                      \n",
       "2018-10-31                                      118.0   \n",
       "2018-11-30                                       15.0   \n",
       "2018-12-31                                        NaN   \n",
       "2019-01-31                                        NaN   \n",
       "2019-02-28                                        NaN   \n",
       "2019-03-31                                        NaN   \n",
       "2019-04-30                                        NaN   \n",
       "\n",
       "event               redirected_from_app_dot  rename_design_file_layer  \\\n",
       "original_timestamp                                                      \n",
       "2018-10-31                             20.0                       NaN   \n",
       "2018-11-30                             53.0                       2.0   \n",
       "2018-12-31                             56.0                       4.0   \n",
       "2019-01-31                             57.0                      69.0   \n",
       "2019-02-28                             49.0                      62.0   \n",
       "2019-03-31                             50.0                      94.0   \n",
       "2019-04-30                             59.0                      73.0   \n",
       "\n",
       "event               request_access  restore_design_file_layers  select_layer  \\\n",
       "original_timestamp                                                             \n",
       "2018-10-31                    17.0                         NaN        2051.0   \n",
       "2018-11-30                    72.0                         2.0        1930.0   \n",
       "2018-12-31                    47.0                         NaN           NaN   \n",
       "2019-01-31                    32.0                         5.0           NaN   \n",
       "2019-02-28                    32.0                         NaN           NaN   \n",
       "2019-03-31                    91.0                         NaN           NaN   \n",
       "2019-04-30                    44.0                         4.0           NaN   \n",
       "\n",
       "event               select_only  selected_site  selected_visualiser_tool  \\\n",
       "original_timestamp                                                         \n",
       "2018-10-31              34676.0         1452.0                    3447.0   \n",
       "2018-11-30             107501.0         5907.0                   12279.0   \n",
       "2018-12-31             110472.0         5183.0                   12421.0   \n",
       "2019-01-31             128146.0         6017.0                   13920.0   \n",
       "2019-02-28             114738.0         5807.0                   13362.0   \n",
       "2019-03-31             149056.0         8491.0                   17850.0   \n",
       "2019-04-30             112519.0         6537.0                   14263.0   \n",
       "\n",
       "event               set_annotation_category_is_collapsed  \\\n",
       "original_timestamp                                         \n",
       "2018-10-31                                        1259.0   \n",
       "2018-11-30                                        3480.0   \n",
       "2018-12-31                                        3295.0   \n",
       "2019-01-31                                        4253.0   \n",
       "2019-02-28                                        4226.0   \n",
       "2019-03-31                                        4983.0   \n",
       "2019-04-30                                        3956.0   \n",
       "\n",
       "event               set_annotation_charted_item_id  set_annotation_visibility  \\\n",
       "original_timestamp                                                              \n",
       "2018-10-31                                     5.0                     7538.0   \n",
       "2018-11-30                                     NaN                    26336.0   \n",
       "2018-12-31                                     NaN                    25685.0   \n",
       "2019-01-31                                     NaN                    31919.0   \n",
       "2019-02-28                                     NaN                    29874.0   \n",
       "2019-03-31                                     NaN                    38623.0   \n",
       "2019-04-30                                     NaN                    32054.0   \n",
       "\n",
       "event               set_annotation_visible_item_id  \\\n",
       "original_timestamp                                   \n",
       "2018-10-31                                  5163.0   \n",
       "2018-11-30                                 18410.0   \n",
       "2018-12-31                                 17678.0   \n",
       "2019-01-31                                 20585.0   \n",
       "2019-02-28                                 20003.0   \n",
       "2019-03-31                                 26062.0   \n",
       "2019-04-30                                 20908.0   \n",
       "\n",
       "event               set_annotations_visibility  set_measurement_material  \\\n",
       "original_timestamp                                                         \n",
       "2018-10-31                             35779.0                     194.0   \n",
       "2018-11-30                            112093.0                     777.0   \n",
       "2018-12-31                            114711.0                     544.0   \n",
       "2019-01-31                            134013.0                     849.0   \n",
       "2019-02-28                            120284.0                     645.0   \n",
       "2019-03-31                            155639.0                     913.0   \n",
       "2019-04-30                            117809.0                     641.0   \n",
       "\n",
       "event               set_pane_visibility  set_primary_data_set  \\\n",
       "original_timestamp                                              \n",
       "2018-10-31                      15823.0                6767.0   \n",
       "2018-11-30                      54095.0               25063.0   \n",
       "2018-12-31                      50063.0               23293.0   \n",
       "2019-01-31                      59856.0               28085.0   \n",
       "2019-02-28                      57664.0               27425.0   \n",
       "2019-03-31                      67807.0               34095.0   \n",
       "2019-04-30                      48870.0               28049.0   \n",
       "\n",
       "event               set_progress_to_design_chart_data  show_modal  \\\n",
       "original_timestamp                                                  \n",
       "2018-10-31                                        NaN      1004.0   \n",
       "2018-11-30                                      173.0      4614.0   \n",
       "2018-12-31                                      758.0      3756.0   \n",
       "2019-01-31                                      897.0      5242.0   \n",
       "2019-02-28                                      723.0      5157.0   \n",
       "2019-03-31                                      967.0      6413.0   \n",
       "2019-04-30                                      443.0      4933.0   \n",
       "\n",
       "event               skip_onboarding_tour  \\\n",
       "original_timestamp                         \n",
       "2018-10-31                         114.0   \n",
       "2018-11-30                         405.0   \n",
       "2018-12-31                         144.0   \n",
       "2019-01-31                         367.0   \n",
       "2019-02-28                         406.0   \n",
       "2019-03-31                         462.0   \n",
       "2019-04-30                         325.0   \n",
       "\n",
       "event               snapped_to_ground_checkbox_was_selected  \\\n",
       "original_timestamp                                            \n",
       "2018-10-31                                              NaN   \n",
       "2018-11-30                                              NaN   \n",
       "2018-12-31                                              NaN   \n",
       "2019-01-31                                              NaN   \n",
       "2019-02-28                                              NaN   \n",
       "2019-03-31                                             80.0   \n",
       "2019-04-30                                             94.0   \n",
       "\n",
       "event               snapped_to_ground_checkbox_was_unselected  \\\n",
       "original_timestamp                                              \n",
       "2018-10-31                                                NaN   \n",
       "2018-11-30                                                NaN   \n",
       "2018-12-31                                                NaN   \n",
       "2019-01-31                                                NaN   \n",
       "2019-02-28                                                NaN   \n",
       "2019-03-31                                               38.0   \n",
       "2019-04-30                                               54.0   \n",
       "\n",
       "event               thumbnail_selected  timeline_selection  \\\n",
       "original_timestamp                                           \n",
       "2018-10-31                       266.0              5233.0   \n",
       "2018-11-30                       519.0             29317.0   \n",
       "2018-12-31                       816.0             25013.0   \n",
       "2019-01-31                      1670.0             28011.0   \n",
       "2019-02-28                      1083.0             32586.0   \n",
       "2019-03-31                       903.0             41826.0   \n",
       "2019-04-30                       641.0             32662.0   \n",
       "\n",
       "event               toggle_annotation_item_calculator  \\\n",
       "original_timestamp                                      \n",
       "2018-10-31                                       40.0   \n",
       "2018-11-30                                        NaN   \n",
       "2018-12-31                                        NaN   \n",
       "2019-01-31                                        NaN   \n",
       "2019-02-28                                        NaN   \n",
       "2019-03-31                                        NaN   \n",
       "2019-04-30                                        NaN   \n",
       "\n",
       "event               toggle_annotation_item_contour  \\\n",
       "original_timestamp                                   \n",
       "2018-10-31                                    30.0   \n",
       "2018-11-30                                     NaN   \n",
       "2018-12-31                                     NaN   \n",
       "2019-01-31                                     NaN   \n",
       "2019-02-28                                     NaN   \n",
       "2019-03-31                                     NaN   \n",
       "2019-04-30                                     NaN   \n",
       "\n",
       "event               toggle_annotation_item_heat_map  \\\n",
       "original_timestamp                                    \n",
       "2018-10-31                                     68.0   \n",
       "2018-11-30                                      NaN   \n",
       "2018-12-31                                      NaN   \n",
       "2019-01-31                                      NaN   \n",
       "2019-02-28                                      NaN   \n",
       "2019-03-31                                      NaN   \n",
       "2019-04-30                                      NaN   \n",
       "\n",
       "event               toggle_contour_layers_contour  \\\n",
       "original_timestamp                                  \n",
       "2018-10-31                                  387.0   \n",
       "2018-11-30                                 1377.0   \n",
       "2018-12-31                                 1213.0   \n",
       "2019-01-31                                 1515.0   \n",
       "2019-02-28                                 1413.0   \n",
       "2019-03-31                                 2071.0   \n",
       "2019-04-30                                 1657.0   \n",
       "\n",
       "event               toggle_contour_layers_heat_map  \\\n",
       "original_timestamp                                   \n",
       "2018-10-31                                   656.0   \n",
       "2018-11-30                                  2825.0   \n",
       "2018-12-31                                  2754.0   \n",
       "2019-01-31                                  3050.0   \n",
       "2019-02-28                                  2682.0   \n",
       "2019-03-31                                  3849.0   \n",
       "2019-04-30                                  3234.0   \n",
       "\n",
       "event               toggle_layer_clamp_to_ground  toggle_layer_visibility  \\\n",
       "original_timestamp                                                          \n",
       "2018-10-31                                  82.0                      NaN   \n",
       "2018-11-30                                 370.0                   2085.0   \n",
       "2018-12-31                                 209.0                  14337.0   \n",
       "2019-01-31                                 327.0                  24964.0   \n",
       "2019-02-28                                 180.0                  33678.0   \n",
       "2019-03-31                                 216.0                  52203.0   \n",
       "2019-04-30                                 201.0                  43821.0   \n",
       "\n",
       "event               toggled_pane_layer  track_file_upload  track_pdf_download  \\\n",
       "original_timestamp                                                              \n",
       "2018-10-31                      5601.0              112.0               193.0   \n",
       "2018-11-30                     21890.0              541.0               762.0   \n",
       "2018-12-31                     21007.0              498.0               848.0   \n",
       "2019-01-31                     23801.0             1645.0               842.0   \n",
       "2019-02-28                     22178.0              849.0               820.0   \n",
       "2019-03-31                     29496.0             1218.0              1084.0   \n",
       "2019-04-30                     24250.0              993.0               877.0   \n",
       "\n",
       "event               update_annotation  update_contour_settings  \\\n",
       "original_timestamp                                               \n",
       "2018-10-31                     5229.0                   1598.0   \n",
       "2018-11-30                    13397.0                   5695.0   \n",
       "2018-12-31                    13245.0                   5145.0   \n",
       "2019-01-31                    17279.0                   5849.0   \n",
       "2019-02-28                    12818.0                   5468.0   \n",
       "2019-03-31                    15827.0                   8072.0   \n",
       "2019-04-30                    12435.0                   6630.0   \n",
       "\n",
       "event               update_dataset_name  update_layer_data_objer  \\\n",
       "original_timestamp                                                 \n",
       "2018-10-31                         64.0                     15.0   \n",
       "2018-11-30                         63.0                    101.0   \n",
       "2018-12-31                         66.0                     51.0   \n",
       "2019-01-31                         91.0                    135.0   \n",
       "2019-02-28                         96.0                    179.0   \n",
       "2019-03-31                        209.0                    251.0   \n",
       "2019-04-30                         92.0                    113.0   \n",
       "\n",
       "event               update_site_name  update_user_setting  \\\n",
       "original_timestamp                                          \n",
       "2018-10-31                       7.0               6094.0   \n",
       "2018-11-30                     115.0              27102.0   \n",
       "2018-12-31                      76.0              27227.0   \n",
       "2019-01-31                      85.0              40222.0   \n",
       "2019-02-28                      56.0              41773.0   \n",
       "2019-03-31                     109.0              60143.0   \n",
       "2019-04-30                      80.0              48030.0   \n",
       "\n",
       "event               update_view_setting  visualiser_session_ended  \\\n",
       "original_timestamp                                                  \n",
       "2018-10-31                        268.0                    2550.0   \n",
       "2018-11-30                       1007.0                    9379.0   \n",
       "2018-12-31                        860.0                    8498.0   \n",
       "2019-01-31                       1129.0                    9438.0   \n",
       "2019-02-28                       1618.0                    8834.0   \n",
       "2019-03-31                       2358.0                   11884.0   \n",
       "2019-04-30                       1165.0                    9538.0   \n",
       "\n",
       "event               visualiser_session_started  \\\n",
       "original_timestamp                               \n",
       "2018-10-31                              4927.0   \n",
       "2018-11-30                             18098.0   \n",
       "2018-12-31                             16602.0   \n",
       "2019-01-31                             20204.0   \n",
       "2019-02-28                             19614.0   \n",
       "2019-03-31                             25603.0   \n",
       "2019-04-30                             20742.0   \n",
       "\n",
       "event               visualiser_time_to_interactive  volume_type_changed  \\\n",
       "original_timestamp                                                        \n",
       "2018-10-31                                  2171.0                 19.0   \n",
       "2018-11-30                                  8454.0                  NaN   \n",
       "2018-12-31                                  7901.0                  NaN   \n",
       "2019-01-31                                  9567.0                  NaN   \n",
       "2019-02-28                                  9002.0                  NaN   \n",
       "2019-03-31                                 11673.0                  NaN   \n",
       "2019-04-30                                  9250.0                  NaN   \n",
       "\n",
       "event               zoom_in_button_in_map_view  zoom_in_button_in_photo_view  \\\n",
       "original_timestamp                                                             \n",
       "2018-10-31                              1755.0                         186.0   \n",
       "2018-11-30                              5551.0                         369.0   \n",
       "2018-12-31                              5818.0                         191.0   \n",
       "2019-01-31                              5682.0                         191.0   \n",
       "2019-02-28                              6845.0                         523.0   \n",
       "2019-03-31                              8990.0                         292.0   \n",
       "2019-04-30                              7516.0                         328.0   \n",
       "\n",
       "event               zoom_out_button_map_view  zoom_out_button_photo_view  \n",
       "original_timestamp                                                        \n",
       "2018-10-31                            1166.0                       133.0  \n",
       "2018-11-30                            3327.0                       195.0  \n",
       "2018-12-31                            3545.0                       132.0  \n",
       "2019-01-31                            3761.0                       199.0  \n",
       "2019-02-28                            4514.0                       259.0  \n",
       "2019-03-31                            5154.0                       154.0  \n",
       "2019-04-30                            4921.0                       209.0  "
      ]
     },
     "execution_count": 412,
     "metadata": {},
     "output_type": "execute_result"
    }
   ],
   "source": [
    "grouped_df_events"
   ]
  },
  {
   "cell_type": "code",
   "execution_count": 536,
   "metadata": {},
   "outputs": [],
   "source": [
    "final = grouped_df_events.merge(grouped_df_users, left_on=grouped_df_events.index, right_on=grouped_df_users.index, how='left')"
   ]
  },
  {
   "cell_type": "code",
   "execution_count": 537,
   "metadata": {},
   "outputs": [],
   "source": [
    "final.rename(columns={\n",
    "    'key_0':'Month',\n",
    "    'user_id':'Active Users Qty'\n",
    "}, inplace=True)\n"
   ]
  },
  {
   "cell_type": "code",
   "execution_count": 538,
   "metadata": {},
   "outputs": [],
   "source": [
    "final.set_index('Month', inplace=True)"
   ]
  },
  {
   "cell_type": "markdown",
   "metadata": {},
   "source": [
    "# correlation calculation between the number of active users and the number of certain actions performed\n",
    "Resulted chart produces 9 actions which have the highest correlation with user activity - hence an indication of events leading to user retention score increase. "
   ]
  },
  {
   "cell_type": "code",
   "execution_count": 539,
   "metadata": {},
   "outputs": [],
   "source": [
    "corr_results = final.corr(method ='pearson')\n",
    "highly_correlated = corr_results.loc['Active Users Qty']>0.97\n",
    "highly_coorrelated_mask = highly_correlated.where(highly_correlated==True).dropna().index.to_list()"
   ]
  },
  {
   "cell_type": "code",
   "execution_count": 540,
   "metadata": {},
   "outputs": [],
   "source": [
    "final = final[highly_coorrelated_mask]"
   ]
  },
  {
   "cell_type": "code",
   "execution_count": 545,
   "metadata": {},
   "outputs": [],
   "source": [
    "# I had to look up the code used for subplots generation in a loop and had no time left to change it, hence those 2 misc columns in order for it to work \n",
    "final['misc1']=0\n",
    "final['misc2']=0"
   ]
  },
  {
   "cell_type": "code",
   "execution_count": 544,
   "metadata": {},
   "outputs": [
    {
     "data": {
      "application/vnd.plotly.v1+json": {
       "config": {
        "plotlyServerURL": "https://plot.ly"
       },
       "data": [
        {
         "mode": "lines",
         "name": "deleted_annotation",
         "type": "scatter",
         "x": [
          "2018-10-31T00:00:00",
          "2018-11-30T00:00:00",
          "2018-12-31T00:00:00",
          "2019-01-31T00:00:00",
          "2019-02-28T00:00:00",
          "2019-03-31T00:00:00",
          "2019-04-30T00:00:00"
         ],
         "xaxis": "x",
         "y": [
          1564,
          5933,
          4902,
          6072,
          6443,
          7562,
          7201
         ],
         "yaxis": "y"
        },
        {
         "mode": "lines",
         "name": "modify_design_file_layer_setting",
         "type": "scatter",
         "x": [
          "2018-10-31T00:00:00",
          "2018-11-30T00:00:00",
          "2018-12-31T00:00:00",
          "2019-01-31T00:00:00",
          "2019-02-28T00:00:00",
          "2019-03-31T00:00:00",
          "2019-04-30T00:00:00"
         ],
         "xaxis": "x2",
         "y": [
          null,
          837,
          1123,
          3288,
          3954,
          6933,
          6148
         ],
         "yaxis": "y2"
        },
        {
         "mode": "lines",
         "name": "set_annotation_visibility",
         "type": "scatter",
         "x": [
          "2018-10-31T00:00:00",
          "2018-11-30T00:00:00",
          "2018-12-31T00:00:00",
          "2019-01-31T00:00:00",
          "2019-02-28T00:00:00",
          "2019-03-31T00:00:00",
          "2019-04-30T00:00:00"
         ],
         "xaxis": "x3",
         "y": [
          7538,
          26336,
          25685,
          31919,
          29874,
          38623,
          32054
         ],
         "yaxis": "y3"
        },
        {
         "mode": "lines",
         "name": "toggle_contour_layers_contour",
         "type": "scatter",
         "x": [
          "2018-10-31T00:00:00",
          "2018-11-30T00:00:00",
          "2018-12-31T00:00:00",
          "2019-01-31T00:00:00",
          "2019-02-28T00:00:00",
          "2019-03-31T00:00:00",
          "2019-04-30T00:00:00"
         ],
         "xaxis": "x4",
         "y": [
          387,
          1377,
          1213,
          1515,
          1413,
          2071,
          1657
         ],
         "yaxis": "y4"
        },
        {
         "mode": "lines",
         "name": "update_contour_settings",
         "type": "scatter",
         "x": [
          "2018-10-31T00:00:00",
          "2018-11-30T00:00:00",
          "2018-12-31T00:00:00",
          "2019-01-31T00:00:00",
          "2019-02-28T00:00:00",
          "2019-03-31T00:00:00",
          "2019-04-30T00:00:00"
         ],
         "xaxis": "x5",
         "y": [
          1598,
          5695,
          5145,
          5849,
          5468,
          8072,
          6630
         ],
         "yaxis": "y5"
        },
        {
         "mode": "lines",
         "name": "update_user_setting",
         "type": "scatter",
         "x": [
          "2018-10-31T00:00:00",
          "2018-11-30T00:00:00",
          "2018-12-31T00:00:00",
          "2019-01-31T00:00:00",
          "2019-02-28T00:00:00",
          "2019-03-31T00:00:00",
          "2019-04-30T00:00:00"
         ],
         "xaxis": "x6",
         "y": [
          6094,
          27102,
          27227,
          40222,
          41773,
          60143,
          48030
         ],
         "yaxis": "y6"
        },
        {
         "mode": "lines",
         "name": "visualiser_session_started",
         "type": "scatter",
         "x": [
          "2018-10-31T00:00:00",
          "2018-11-30T00:00:00",
          "2018-12-31T00:00:00",
          "2019-01-31T00:00:00",
          "2019-02-28T00:00:00",
          "2019-03-31T00:00:00",
          "2019-04-30T00:00:00"
         ],
         "xaxis": "x7",
         "y": [
          4927,
          18098,
          16602,
          20204,
          19614,
          25603,
          20742
         ],
         "yaxis": "y7"
        },
        {
         "mode": "lines",
         "name": "zoom_in_button_in_map_view",
         "type": "scatter",
         "x": [
          "2018-10-31T00:00:00",
          "2018-11-30T00:00:00",
          "2018-12-31T00:00:00",
          "2019-01-31T00:00:00",
          "2019-02-28T00:00:00",
          "2019-03-31T00:00:00",
          "2019-04-30T00:00:00"
         ],
         "xaxis": "x8",
         "y": [
          1755,
          5551,
          5818,
          5682,
          6845,
          8990,
          7516
         ],
         "yaxis": "y8"
        },
        {
         "mode": "lines",
         "name": "zoom_out_button_map_view",
         "type": "scatter",
         "x": [
          "2018-10-31T00:00:00",
          "2018-11-30T00:00:00",
          "2018-12-31T00:00:00",
          "2019-01-31T00:00:00",
          "2019-02-28T00:00:00",
          "2019-03-31T00:00:00",
          "2019-04-30T00:00:00"
         ],
         "xaxis": "x9",
         "y": [
          1166,
          3327,
          3545,
          3761,
          4514,
          5154,
          4921
         ],
         "yaxis": "y9"
        },
        {
         "mode": "lines",
         "name": "Active Users Qty",
         "type": "scatter",
         "x": [
          "2018-10-31T00:00:00",
          "2018-11-30T00:00:00",
          "2018-12-31T00:00:00",
          "2019-01-31T00:00:00",
          "2019-02-28T00:00:00",
          "2019-03-31T00:00:00",
          "2019-04-30T00:00:00"
         ],
         "xaxis": "x10",
         "y": [
          797,
          1494,
          1378,
          1613,
          1658,
          1985,
          1895
         ],
         "yaxis": "y10"
        },
        {
         "mode": "lines",
         "name": "misc1",
         "type": "scatter",
         "x": [
          "2018-10-31T00:00:00",
          "2018-11-30T00:00:00",
          "2018-12-31T00:00:00",
          "2019-01-31T00:00:00",
          "2019-02-28T00:00:00",
          "2019-03-31T00:00:00",
          "2019-04-30T00:00:00"
         ],
         "xaxis": "x11",
         "y": [
          0,
          0,
          0,
          0,
          0,
          0,
          0
         ],
         "yaxis": "y11"
        },
        {
         "mode": "lines",
         "name": "misc2",
         "type": "scatter",
         "x": [
          "2018-10-31T00:00:00",
          "2018-11-30T00:00:00",
          "2018-12-31T00:00:00",
          "2019-01-31T00:00:00",
          "2019-02-28T00:00:00",
          "2019-03-31T00:00:00",
          "2019-04-30T00:00:00"
         ],
         "xaxis": "x12",
         "y": [
          0,
          0,
          0,
          0,
          0,
          0,
          0
         ],
         "yaxis": "y12"
        }
       ],
       "layout": {
        "height": 1200,
        "template": {
         "data": {
          "bar": [
           {
            "error_x": {
             "color": "#2a3f5f"
            },
            "error_y": {
             "color": "#2a3f5f"
            },
            "marker": {
             "line": {
              "color": "#E5ECF6",
              "width": 0.5
             }
            },
            "type": "bar"
           }
          ],
          "barpolar": [
           {
            "marker": {
             "line": {
              "color": "#E5ECF6",
              "width": 0.5
             }
            },
            "type": "barpolar"
           }
          ],
          "carpet": [
           {
            "aaxis": {
             "endlinecolor": "#2a3f5f",
             "gridcolor": "white",
             "linecolor": "white",
             "minorgridcolor": "white",
             "startlinecolor": "#2a3f5f"
            },
            "baxis": {
             "endlinecolor": "#2a3f5f",
             "gridcolor": "white",
             "linecolor": "white",
             "minorgridcolor": "white",
             "startlinecolor": "#2a3f5f"
            },
            "type": "carpet"
           }
          ],
          "choropleth": [
           {
            "colorbar": {
             "outlinewidth": 0,
             "ticks": ""
            },
            "type": "choropleth"
           }
          ],
          "contour": [
           {
            "colorbar": {
             "outlinewidth": 0,
             "ticks": ""
            },
            "colorscale": [
             [
              0,
              "#0d0887"
             ],
             [
              0.1111111111111111,
              "#46039f"
             ],
             [
              0.2222222222222222,
              "#7201a8"
             ],
             [
              0.3333333333333333,
              "#9c179e"
             ],
             [
              0.4444444444444444,
              "#bd3786"
             ],
             [
              0.5555555555555556,
              "#d8576b"
             ],
             [
              0.6666666666666666,
              "#ed7953"
             ],
             [
              0.7777777777777778,
              "#fb9f3a"
             ],
             [
              0.8888888888888888,
              "#fdca26"
             ],
             [
              1,
              "#f0f921"
             ]
            ],
            "type": "contour"
           }
          ],
          "contourcarpet": [
           {
            "colorbar": {
             "outlinewidth": 0,
             "ticks": ""
            },
            "type": "contourcarpet"
           }
          ],
          "heatmap": [
           {
            "colorbar": {
             "outlinewidth": 0,
             "ticks": ""
            },
            "colorscale": [
             [
              0,
              "#0d0887"
             ],
             [
              0.1111111111111111,
              "#46039f"
             ],
             [
              0.2222222222222222,
              "#7201a8"
             ],
             [
              0.3333333333333333,
              "#9c179e"
             ],
             [
              0.4444444444444444,
              "#bd3786"
             ],
             [
              0.5555555555555556,
              "#d8576b"
             ],
             [
              0.6666666666666666,
              "#ed7953"
             ],
             [
              0.7777777777777778,
              "#fb9f3a"
             ],
             [
              0.8888888888888888,
              "#fdca26"
             ],
             [
              1,
              "#f0f921"
             ]
            ],
            "type": "heatmap"
           }
          ],
          "heatmapgl": [
           {
            "colorbar": {
             "outlinewidth": 0,
             "ticks": ""
            },
            "colorscale": [
             [
              0,
              "#0d0887"
             ],
             [
              0.1111111111111111,
              "#46039f"
             ],
             [
              0.2222222222222222,
              "#7201a8"
             ],
             [
              0.3333333333333333,
              "#9c179e"
             ],
             [
              0.4444444444444444,
              "#bd3786"
             ],
             [
              0.5555555555555556,
              "#d8576b"
             ],
             [
              0.6666666666666666,
              "#ed7953"
             ],
             [
              0.7777777777777778,
              "#fb9f3a"
             ],
             [
              0.8888888888888888,
              "#fdca26"
             ],
             [
              1,
              "#f0f921"
             ]
            ],
            "type": "heatmapgl"
           }
          ],
          "histogram": [
           {
            "marker": {
             "colorbar": {
              "outlinewidth": 0,
              "ticks": ""
             }
            },
            "type": "histogram"
           }
          ],
          "histogram2d": [
           {
            "colorbar": {
             "outlinewidth": 0,
             "ticks": ""
            },
            "colorscale": [
             [
              0,
              "#0d0887"
             ],
             [
              0.1111111111111111,
              "#46039f"
             ],
             [
              0.2222222222222222,
              "#7201a8"
             ],
             [
              0.3333333333333333,
              "#9c179e"
             ],
             [
              0.4444444444444444,
              "#bd3786"
             ],
             [
              0.5555555555555556,
              "#d8576b"
             ],
             [
              0.6666666666666666,
              "#ed7953"
             ],
             [
              0.7777777777777778,
              "#fb9f3a"
             ],
             [
              0.8888888888888888,
              "#fdca26"
             ],
             [
              1,
              "#f0f921"
             ]
            ],
            "type": "histogram2d"
           }
          ],
          "histogram2dcontour": [
           {
            "colorbar": {
             "outlinewidth": 0,
             "ticks": ""
            },
            "colorscale": [
             [
              0,
              "#0d0887"
             ],
             [
              0.1111111111111111,
              "#46039f"
             ],
             [
              0.2222222222222222,
              "#7201a8"
             ],
             [
              0.3333333333333333,
              "#9c179e"
             ],
             [
              0.4444444444444444,
              "#bd3786"
             ],
             [
              0.5555555555555556,
              "#d8576b"
             ],
             [
              0.6666666666666666,
              "#ed7953"
             ],
             [
              0.7777777777777778,
              "#fb9f3a"
             ],
             [
              0.8888888888888888,
              "#fdca26"
             ],
             [
              1,
              "#f0f921"
             ]
            ],
            "type": "histogram2dcontour"
           }
          ],
          "mesh3d": [
           {
            "colorbar": {
             "outlinewidth": 0,
             "ticks": ""
            },
            "type": "mesh3d"
           }
          ],
          "parcoords": [
           {
            "line": {
             "colorbar": {
              "outlinewidth": 0,
              "ticks": ""
             }
            },
            "type": "parcoords"
           }
          ],
          "pie": [
           {
            "automargin": true,
            "type": "pie"
           }
          ],
          "scatter": [
           {
            "marker": {
             "colorbar": {
              "outlinewidth": 0,
              "ticks": ""
             }
            },
            "type": "scatter"
           }
          ],
          "scatter3d": [
           {
            "line": {
             "colorbar": {
              "outlinewidth": 0,
              "ticks": ""
             }
            },
            "marker": {
             "colorbar": {
              "outlinewidth": 0,
              "ticks": ""
             }
            },
            "type": "scatter3d"
           }
          ],
          "scattercarpet": [
           {
            "marker": {
             "colorbar": {
              "outlinewidth": 0,
              "ticks": ""
             }
            },
            "type": "scattercarpet"
           }
          ],
          "scattergeo": [
           {
            "marker": {
             "colorbar": {
              "outlinewidth": 0,
              "ticks": ""
             }
            },
            "type": "scattergeo"
           }
          ],
          "scattergl": [
           {
            "marker": {
             "colorbar": {
              "outlinewidth": 0,
              "ticks": ""
             }
            },
            "type": "scattergl"
           }
          ],
          "scattermapbox": [
           {
            "marker": {
             "colorbar": {
              "outlinewidth": 0,
              "ticks": ""
             }
            },
            "type": "scattermapbox"
           }
          ],
          "scatterpolar": [
           {
            "marker": {
             "colorbar": {
              "outlinewidth": 0,
              "ticks": ""
             }
            },
            "type": "scatterpolar"
           }
          ],
          "scatterpolargl": [
           {
            "marker": {
             "colorbar": {
              "outlinewidth": 0,
              "ticks": ""
             }
            },
            "type": "scatterpolargl"
           }
          ],
          "scatterternary": [
           {
            "marker": {
             "colorbar": {
              "outlinewidth": 0,
              "ticks": ""
             }
            },
            "type": "scatterternary"
           }
          ],
          "surface": [
           {
            "colorbar": {
             "outlinewidth": 0,
             "ticks": ""
            },
            "colorscale": [
             [
              0,
              "#0d0887"
             ],
             [
              0.1111111111111111,
              "#46039f"
             ],
             [
              0.2222222222222222,
              "#7201a8"
             ],
             [
              0.3333333333333333,
              "#9c179e"
             ],
             [
              0.4444444444444444,
              "#bd3786"
             ],
             [
              0.5555555555555556,
              "#d8576b"
             ],
             [
              0.6666666666666666,
              "#ed7953"
             ],
             [
              0.7777777777777778,
              "#fb9f3a"
             ],
             [
              0.8888888888888888,
              "#fdca26"
             ],
             [
              1,
              "#f0f921"
             ]
            ],
            "type": "surface"
           }
          ],
          "table": [
           {
            "cells": {
             "fill": {
              "color": "#EBF0F8"
             },
             "line": {
              "color": "white"
             }
            },
            "header": {
             "fill": {
              "color": "#C8D4E3"
             },
             "line": {
              "color": "white"
             }
            },
            "type": "table"
           }
          ]
         },
         "layout": {
          "annotationdefaults": {
           "arrowcolor": "#2a3f5f",
           "arrowhead": 0,
           "arrowwidth": 1
          },
          "coloraxis": {
           "colorbar": {
            "outlinewidth": 0,
            "ticks": ""
           }
          },
          "colorscale": {
           "diverging": [
            [
             0,
             "#8e0152"
            ],
            [
             0.1,
             "#c51b7d"
            ],
            [
             0.2,
             "#de77ae"
            ],
            [
             0.3,
             "#f1b6da"
            ],
            [
             0.4,
             "#fde0ef"
            ],
            [
             0.5,
             "#f7f7f7"
            ],
            [
             0.6,
             "#e6f5d0"
            ],
            [
             0.7,
             "#b8e186"
            ],
            [
             0.8,
             "#7fbc41"
            ],
            [
             0.9,
             "#4d9221"
            ],
            [
             1,
             "#276419"
            ]
           ],
           "sequential": [
            [
             0,
             "#0d0887"
            ],
            [
             0.1111111111111111,
             "#46039f"
            ],
            [
             0.2222222222222222,
             "#7201a8"
            ],
            [
             0.3333333333333333,
             "#9c179e"
            ],
            [
             0.4444444444444444,
             "#bd3786"
            ],
            [
             0.5555555555555556,
             "#d8576b"
            ],
            [
             0.6666666666666666,
             "#ed7953"
            ],
            [
             0.7777777777777778,
             "#fb9f3a"
            ],
            [
             0.8888888888888888,
             "#fdca26"
            ],
            [
             1,
             "#f0f921"
            ]
           ],
           "sequentialminus": [
            [
             0,
             "#0d0887"
            ],
            [
             0.1111111111111111,
             "#46039f"
            ],
            [
             0.2222222222222222,
             "#7201a8"
            ],
            [
             0.3333333333333333,
             "#9c179e"
            ],
            [
             0.4444444444444444,
             "#bd3786"
            ],
            [
             0.5555555555555556,
             "#d8576b"
            ],
            [
             0.6666666666666666,
             "#ed7953"
            ],
            [
             0.7777777777777778,
             "#fb9f3a"
            ],
            [
             0.8888888888888888,
             "#fdca26"
            ],
            [
             1,
             "#f0f921"
            ]
           ]
          },
          "colorway": [
           "#636efa",
           "#EF553B",
           "#00cc96",
           "#ab63fa",
           "#FFA15A",
           "#19d3f3",
           "#FF6692",
           "#B6E880",
           "#FF97FF",
           "#FECB52"
          ],
          "font": {
           "color": "#2a3f5f"
          },
          "geo": {
           "bgcolor": "white",
           "lakecolor": "white",
           "landcolor": "#E5ECF6",
           "showlakes": true,
           "showland": true,
           "subunitcolor": "white"
          },
          "hoverlabel": {
           "align": "left"
          },
          "hovermode": "closest",
          "mapbox": {
           "style": "light"
          },
          "paper_bgcolor": "white",
          "plot_bgcolor": "#E5ECF6",
          "polar": {
           "angularaxis": {
            "gridcolor": "white",
            "linecolor": "white",
            "ticks": ""
           },
           "bgcolor": "#E5ECF6",
           "radialaxis": {
            "gridcolor": "white",
            "linecolor": "white",
            "ticks": ""
           }
          },
          "scene": {
           "xaxis": {
            "backgroundcolor": "#E5ECF6",
            "gridcolor": "white",
            "gridwidth": 2,
            "linecolor": "white",
            "showbackground": true,
            "ticks": "",
            "zerolinecolor": "white"
           },
           "yaxis": {
            "backgroundcolor": "#E5ECF6",
            "gridcolor": "white",
            "gridwidth": 2,
            "linecolor": "white",
            "showbackground": true,
            "ticks": "",
            "zerolinecolor": "white"
           },
           "zaxis": {
            "backgroundcolor": "#E5ECF6",
            "gridcolor": "white",
            "gridwidth": 2,
            "linecolor": "white",
            "showbackground": true,
            "ticks": "",
            "zerolinecolor": "white"
           }
          },
          "shapedefaults": {
           "line": {
            "color": "#2a3f5f"
           }
          },
          "ternary": {
           "aaxis": {
            "gridcolor": "white",
            "linecolor": "white",
            "ticks": ""
           },
           "baxis": {
            "gridcolor": "white",
            "linecolor": "white",
            "ticks": ""
           },
           "bgcolor": "#E5ECF6",
           "caxis": {
            "gridcolor": "white",
            "linecolor": "white",
            "ticks": ""
           }
          },
          "title": {
           "x": 0.05
          },
          "xaxis": {
           "automargin": true,
           "gridcolor": "white",
           "linecolor": "white",
           "ticks": "",
           "title": {
            "standoff": 15
           },
           "zerolinecolor": "white",
           "zerolinewidth": 2
          },
          "yaxis": {
           "automargin": true,
           "gridcolor": "white",
           "linecolor": "white",
           "ticks": "",
           "title": {
            "standoff": 15
           },
           "zerolinecolor": "white",
           "zerolinewidth": 2
          }
         }
        },
        "width": 1200,
        "xaxis": {
         "anchor": "y",
         "domain": [
          0,
          0.2888888888888889
         ]
        },
        "xaxis10": {
         "anchor": "y10",
         "domain": [
          0,
          0.2888888888888889
         ]
        },
        "xaxis11": {
         "anchor": "y11",
         "domain": [
          0.35555555555555557,
          0.6444444444444445
         ]
        },
        "xaxis12": {
         "anchor": "y12",
         "domain": [
          0.7111111111111111,
          1
         ]
        },
        "xaxis2": {
         "anchor": "y2",
         "domain": [
          0.35555555555555557,
          0.6444444444444445
         ]
        },
        "xaxis3": {
         "anchor": "y3",
         "domain": [
          0.7111111111111111,
          1
         ]
        },
        "xaxis4": {
         "anchor": "y4",
         "domain": [
          0,
          0.2888888888888889
         ]
        },
        "xaxis5": {
         "anchor": "y5",
         "domain": [
          0.35555555555555557,
          0.6444444444444445
         ]
        },
        "xaxis6": {
         "anchor": "y6",
         "domain": [
          0.7111111111111111,
          1
         ]
        },
        "xaxis7": {
         "anchor": "y7",
         "domain": [
          0,
          0.2888888888888889
         ]
        },
        "xaxis8": {
         "anchor": "y8",
         "domain": [
          0.35555555555555557,
          0.6444444444444445
         ]
        },
        "xaxis9": {
         "anchor": "y9",
         "domain": [
          0.7111111111111111,
          1
         ]
        },
        "yaxis": {
         "anchor": "x",
         "domain": [
          0.80625,
          1
         ]
        },
        "yaxis10": {
         "anchor": "x10",
         "domain": [
          0,
          0.19375
         ]
        },
        "yaxis11": {
         "anchor": "x11",
         "domain": [
          0,
          0.19375
         ]
        },
        "yaxis12": {
         "anchor": "x12",
         "domain": [
          0,
          0.19375
         ]
        },
        "yaxis2": {
         "anchor": "x2",
         "domain": [
          0.80625,
          1
         ]
        },
        "yaxis3": {
         "anchor": "x3",
         "domain": [
          0.80625,
          1
         ]
        },
        "yaxis4": {
         "anchor": "x4",
         "domain": [
          0.5375,
          0.73125
         ]
        },
        "yaxis5": {
         "anchor": "x5",
         "domain": [
          0.5375,
          0.73125
         ]
        },
        "yaxis6": {
         "anchor": "x6",
         "domain": [
          0.5375,
          0.73125
         ]
        },
        "yaxis7": {
         "anchor": "x7",
         "domain": [
          0.26875,
          0.4625
         ]
        },
        "yaxis8": {
         "anchor": "x8",
         "domain": [
          0.26875,
          0.4625
         ]
        },
        "yaxis9": {
         "anchor": "x9",
         "domain": [
          0.26875,
          0.4625
         ]
        }
       }
      },
      "text/html": [
       "<div>\n",
       "        \n",
       "        \n",
       "            <div id=\"42b9750a-781c-467f-a687-be0af822c0fd\" class=\"plotly-graph-div\" style=\"height:1200px; width:1200px;\"></div>\n",
       "            <script type=\"text/javascript\">\n",
       "                require([\"plotly\"], function(Plotly) {\n",
       "                    window.PLOTLYENV=window.PLOTLYENV || {};\n",
       "                    \n",
       "                if (document.getElementById(\"42b9750a-781c-467f-a687-be0af822c0fd\")) {\n",
       "                    Plotly.newPlot(\n",
       "                        '42b9750a-781c-467f-a687-be0af822c0fd',\n",
       "                        [{\"mode\": \"lines\", \"name\": \"deleted_annotation\", \"type\": \"scatter\", \"x\": [\"2018-10-31T00:00:00\", \"2018-11-30T00:00:00\", \"2018-12-31T00:00:00\", \"2019-01-31T00:00:00\", \"2019-02-28T00:00:00\", \"2019-03-31T00:00:00\", \"2019-04-30T00:00:00\"], \"xaxis\": \"x\", \"y\": [1564.0, 5933.0, 4902.0, 6072.0, 6443.0, 7562.0, 7201.0], \"yaxis\": \"y\"}, {\"mode\": \"lines\", \"name\": \"modify_design_file_layer_setting\", \"type\": \"scatter\", \"x\": [\"2018-10-31T00:00:00\", \"2018-11-30T00:00:00\", \"2018-12-31T00:00:00\", \"2019-01-31T00:00:00\", \"2019-02-28T00:00:00\", \"2019-03-31T00:00:00\", \"2019-04-30T00:00:00\"], \"xaxis\": \"x2\", \"y\": [null, 837.0, 1123.0, 3288.0, 3954.0, 6933.0, 6148.0], \"yaxis\": \"y2\"}, {\"mode\": \"lines\", \"name\": \"set_annotation_visibility\", \"type\": \"scatter\", \"x\": [\"2018-10-31T00:00:00\", \"2018-11-30T00:00:00\", \"2018-12-31T00:00:00\", \"2019-01-31T00:00:00\", \"2019-02-28T00:00:00\", \"2019-03-31T00:00:00\", \"2019-04-30T00:00:00\"], \"xaxis\": \"x3\", \"y\": [7538.0, 26336.0, 25685.0, 31919.0, 29874.0, 38623.0, 32054.0], \"yaxis\": \"y3\"}, {\"mode\": \"lines\", \"name\": \"toggle_contour_layers_contour\", \"type\": \"scatter\", \"x\": [\"2018-10-31T00:00:00\", \"2018-11-30T00:00:00\", \"2018-12-31T00:00:00\", \"2019-01-31T00:00:00\", \"2019-02-28T00:00:00\", \"2019-03-31T00:00:00\", \"2019-04-30T00:00:00\"], \"xaxis\": \"x4\", \"y\": [387.0, 1377.0, 1213.0, 1515.0, 1413.0, 2071.0, 1657.0], \"yaxis\": \"y4\"}, {\"mode\": \"lines\", \"name\": \"update_contour_settings\", \"type\": \"scatter\", \"x\": [\"2018-10-31T00:00:00\", \"2018-11-30T00:00:00\", \"2018-12-31T00:00:00\", \"2019-01-31T00:00:00\", \"2019-02-28T00:00:00\", \"2019-03-31T00:00:00\", \"2019-04-30T00:00:00\"], \"xaxis\": \"x5\", \"y\": [1598.0, 5695.0, 5145.0, 5849.0, 5468.0, 8072.0, 6630.0], \"yaxis\": \"y5\"}, {\"mode\": \"lines\", \"name\": \"update_user_setting\", \"type\": \"scatter\", \"x\": [\"2018-10-31T00:00:00\", \"2018-11-30T00:00:00\", \"2018-12-31T00:00:00\", \"2019-01-31T00:00:00\", \"2019-02-28T00:00:00\", \"2019-03-31T00:00:00\", \"2019-04-30T00:00:00\"], \"xaxis\": \"x6\", \"y\": [6094.0, 27102.0, 27227.0, 40222.0, 41773.0, 60143.0, 48030.0], \"yaxis\": \"y6\"}, {\"mode\": \"lines\", \"name\": \"visualiser_session_started\", \"type\": \"scatter\", \"x\": [\"2018-10-31T00:00:00\", \"2018-11-30T00:00:00\", \"2018-12-31T00:00:00\", \"2019-01-31T00:00:00\", \"2019-02-28T00:00:00\", \"2019-03-31T00:00:00\", \"2019-04-30T00:00:00\"], \"xaxis\": \"x7\", \"y\": [4927.0, 18098.0, 16602.0, 20204.0, 19614.0, 25603.0, 20742.0], \"yaxis\": \"y7\"}, {\"mode\": \"lines\", \"name\": \"zoom_in_button_in_map_view\", \"type\": \"scatter\", \"x\": [\"2018-10-31T00:00:00\", \"2018-11-30T00:00:00\", \"2018-12-31T00:00:00\", \"2019-01-31T00:00:00\", \"2019-02-28T00:00:00\", \"2019-03-31T00:00:00\", \"2019-04-30T00:00:00\"], \"xaxis\": \"x8\", \"y\": [1755.0, 5551.0, 5818.0, 5682.0, 6845.0, 8990.0, 7516.0], \"yaxis\": \"y8\"}, {\"mode\": \"lines\", \"name\": \"zoom_out_button_map_view\", \"type\": \"scatter\", \"x\": [\"2018-10-31T00:00:00\", \"2018-11-30T00:00:00\", \"2018-12-31T00:00:00\", \"2019-01-31T00:00:00\", \"2019-02-28T00:00:00\", \"2019-03-31T00:00:00\", \"2019-04-30T00:00:00\"], \"xaxis\": \"x9\", \"y\": [1166.0, 3327.0, 3545.0, 3761.0, 4514.0, 5154.0, 4921.0], \"yaxis\": \"y9\"}, {\"mode\": \"lines\", \"name\": \"Active Users Qty\", \"type\": \"scatter\", \"x\": [\"2018-10-31T00:00:00\", \"2018-11-30T00:00:00\", \"2018-12-31T00:00:00\", \"2019-01-31T00:00:00\", \"2019-02-28T00:00:00\", \"2019-03-31T00:00:00\", \"2019-04-30T00:00:00\"], \"xaxis\": \"x10\", \"y\": [797, 1494, 1378, 1613, 1658, 1985, 1895], \"yaxis\": \"y10\"}, {\"mode\": \"lines\", \"name\": \"misc1\", \"type\": \"scatter\", \"x\": [\"2018-10-31T00:00:00\", \"2018-11-30T00:00:00\", \"2018-12-31T00:00:00\", \"2019-01-31T00:00:00\", \"2019-02-28T00:00:00\", \"2019-03-31T00:00:00\", \"2019-04-30T00:00:00\"], \"xaxis\": \"x11\", \"y\": [0, 0, 0, 0, 0, 0, 0], \"yaxis\": \"y11\"}, {\"mode\": \"lines\", \"name\": \"misc2\", \"type\": \"scatter\", \"x\": [\"2018-10-31T00:00:00\", \"2018-11-30T00:00:00\", \"2018-12-31T00:00:00\", \"2019-01-31T00:00:00\", \"2019-02-28T00:00:00\", \"2019-03-31T00:00:00\", \"2019-04-30T00:00:00\"], \"xaxis\": \"x12\", \"y\": [0, 0, 0, 0, 0, 0, 0], \"yaxis\": \"y12\"}],\n",
       "                        {\"height\": 1200, \"template\": {\"data\": {\"bar\": [{\"error_x\": {\"color\": \"#2a3f5f\"}, \"error_y\": {\"color\": \"#2a3f5f\"}, \"marker\": {\"line\": {\"color\": \"#E5ECF6\", \"width\": 0.5}}, \"type\": \"bar\"}], \"barpolar\": [{\"marker\": {\"line\": {\"color\": \"#E5ECF6\", \"width\": 0.5}}, \"type\": \"barpolar\"}], \"carpet\": [{\"aaxis\": {\"endlinecolor\": \"#2a3f5f\", \"gridcolor\": \"white\", \"linecolor\": \"white\", \"minorgridcolor\": \"white\", \"startlinecolor\": \"#2a3f5f\"}, \"baxis\": {\"endlinecolor\": \"#2a3f5f\", \"gridcolor\": \"white\", \"linecolor\": \"white\", \"minorgridcolor\": \"white\", \"startlinecolor\": \"#2a3f5f\"}, \"type\": \"carpet\"}], \"choropleth\": [{\"colorbar\": {\"outlinewidth\": 0, \"ticks\": \"\"}, \"type\": \"choropleth\"}], \"contour\": [{\"colorbar\": {\"outlinewidth\": 0, \"ticks\": \"\"}, \"colorscale\": [[0.0, \"#0d0887\"], [0.1111111111111111, \"#46039f\"], [0.2222222222222222, \"#7201a8\"], [0.3333333333333333, \"#9c179e\"], [0.4444444444444444, \"#bd3786\"], [0.5555555555555556, \"#d8576b\"], [0.6666666666666666, \"#ed7953\"], [0.7777777777777778, \"#fb9f3a\"], [0.8888888888888888, \"#fdca26\"], [1.0, \"#f0f921\"]], \"type\": \"contour\"}], \"contourcarpet\": [{\"colorbar\": {\"outlinewidth\": 0, \"ticks\": \"\"}, \"type\": \"contourcarpet\"}], \"heatmap\": [{\"colorbar\": {\"outlinewidth\": 0, \"ticks\": \"\"}, \"colorscale\": [[0.0, \"#0d0887\"], [0.1111111111111111, \"#46039f\"], [0.2222222222222222, \"#7201a8\"], [0.3333333333333333, \"#9c179e\"], [0.4444444444444444, \"#bd3786\"], [0.5555555555555556, \"#d8576b\"], [0.6666666666666666, \"#ed7953\"], [0.7777777777777778, \"#fb9f3a\"], [0.8888888888888888, \"#fdca26\"], [1.0, \"#f0f921\"]], \"type\": \"heatmap\"}], \"heatmapgl\": [{\"colorbar\": {\"outlinewidth\": 0, \"ticks\": \"\"}, \"colorscale\": [[0.0, \"#0d0887\"], [0.1111111111111111, \"#46039f\"], [0.2222222222222222, \"#7201a8\"], [0.3333333333333333, \"#9c179e\"], [0.4444444444444444, \"#bd3786\"], [0.5555555555555556, \"#d8576b\"], [0.6666666666666666, \"#ed7953\"], [0.7777777777777778, \"#fb9f3a\"], [0.8888888888888888, \"#fdca26\"], [1.0, \"#f0f921\"]], \"type\": \"heatmapgl\"}], \"histogram\": [{\"marker\": {\"colorbar\": {\"outlinewidth\": 0, \"ticks\": \"\"}}, \"type\": \"histogram\"}], \"histogram2d\": [{\"colorbar\": {\"outlinewidth\": 0, \"ticks\": \"\"}, \"colorscale\": [[0.0, \"#0d0887\"], [0.1111111111111111, \"#46039f\"], [0.2222222222222222, \"#7201a8\"], [0.3333333333333333, \"#9c179e\"], [0.4444444444444444, \"#bd3786\"], [0.5555555555555556, \"#d8576b\"], [0.6666666666666666, \"#ed7953\"], [0.7777777777777778, \"#fb9f3a\"], [0.8888888888888888, \"#fdca26\"], [1.0, \"#f0f921\"]], \"type\": \"histogram2d\"}], \"histogram2dcontour\": [{\"colorbar\": {\"outlinewidth\": 0, \"ticks\": \"\"}, \"colorscale\": [[0.0, \"#0d0887\"], [0.1111111111111111, \"#46039f\"], [0.2222222222222222, \"#7201a8\"], [0.3333333333333333, \"#9c179e\"], [0.4444444444444444, \"#bd3786\"], [0.5555555555555556, \"#d8576b\"], [0.6666666666666666, \"#ed7953\"], [0.7777777777777778, \"#fb9f3a\"], [0.8888888888888888, \"#fdca26\"], [1.0, \"#f0f921\"]], \"type\": \"histogram2dcontour\"}], \"mesh3d\": [{\"colorbar\": {\"outlinewidth\": 0, \"ticks\": \"\"}, \"type\": \"mesh3d\"}], \"parcoords\": [{\"line\": {\"colorbar\": {\"outlinewidth\": 0, \"ticks\": \"\"}}, \"type\": \"parcoords\"}], \"pie\": [{\"automargin\": true, \"type\": \"pie\"}], \"scatter\": [{\"marker\": {\"colorbar\": {\"outlinewidth\": 0, \"ticks\": \"\"}}, \"type\": \"scatter\"}], \"scatter3d\": [{\"line\": {\"colorbar\": {\"outlinewidth\": 0, \"ticks\": \"\"}}, \"marker\": {\"colorbar\": {\"outlinewidth\": 0, \"ticks\": \"\"}}, \"type\": \"scatter3d\"}], \"scattercarpet\": [{\"marker\": {\"colorbar\": {\"outlinewidth\": 0, \"ticks\": \"\"}}, \"type\": \"scattercarpet\"}], \"scattergeo\": [{\"marker\": {\"colorbar\": {\"outlinewidth\": 0, \"ticks\": \"\"}}, \"type\": \"scattergeo\"}], \"scattergl\": [{\"marker\": {\"colorbar\": {\"outlinewidth\": 0, \"ticks\": \"\"}}, \"type\": \"scattergl\"}], \"scattermapbox\": [{\"marker\": {\"colorbar\": {\"outlinewidth\": 0, \"ticks\": \"\"}}, \"type\": \"scattermapbox\"}], \"scatterpolar\": [{\"marker\": {\"colorbar\": {\"outlinewidth\": 0, \"ticks\": \"\"}}, \"type\": \"scatterpolar\"}], \"scatterpolargl\": [{\"marker\": {\"colorbar\": {\"outlinewidth\": 0, \"ticks\": \"\"}}, \"type\": \"scatterpolargl\"}], \"scatterternary\": [{\"marker\": {\"colorbar\": {\"outlinewidth\": 0, \"ticks\": \"\"}}, \"type\": \"scatterternary\"}], \"surface\": [{\"colorbar\": {\"outlinewidth\": 0, \"ticks\": \"\"}, \"colorscale\": [[0.0, \"#0d0887\"], [0.1111111111111111, \"#46039f\"], [0.2222222222222222, \"#7201a8\"], [0.3333333333333333, \"#9c179e\"], [0.4444444444444444, \"#bd3786\"], [0.5555555555555556, \"#d8576b\"], [0.6666666666666666, \"#ed7953\"], [0.7777777777777778, \"#fb9f3a\"], [0.8888888888888888, \"#fdca26\"], [1.0, \"#f0f921\"]], \"type\": \"surface\"}], \"table\": [{\"cells\": {\"fill\": {\"color\": \"#EBF0F8\"}, \"line\": {\"color\": \"white\"}}, \"header\": {\"fill\": {\"color\": \"#C8D4E3\"}, \"line\": {\"color\": \"white\"}}, \"type\": \"table\"}]}, \"layout\": {\"annotationdefaults\": {\"arrowcolor\": \"#2a3f5f\", \"arrowhead\": 0, \"arrowwidth\": 1}, \"coloraxis\": {\"colorbar\": {\"outlinewidth\": 0, \"ticks\": \"\"}}, \"colorscale\": {\"diverging\": [[0, \"#8e0152\"], [0.1, \"#c51b7d\"], [0.2, \"#de77ae\"], [0.3, \"#f1b6da\"], [0.4, \"#fde0ef\"], [0.5, \"#f7f7f7\"], [0.6, \"#e6f5d0\"], [0.7, \"#b8e186\"], [0.8, \"#7fbc41\"], [0.9, \"#4d9221\"], [1, \"#276419\"]], \"sequential\": [[0.0, \"#0d0887\"], [0.1111111111111111, \"#46039f\"], [0.2222222222222222, \"#7201a8\"], [0.3333333333333333, \"#9c179e\"], [0.4444444444444444, \"#bd3786\"], [0.5555555555555556, \"#d8576b\"], [0.6666666666666666, \"#ed7953\"], [0.7777777777777778, \"#fb9f3a\"], [0.8888888888888888, \"#fdca26\"], [1.0, \"#f0f921\"]], \"sequentialminus\": [[0.0, \"#0d0887\"], [0.1111111111111111, \"#46039f\"], [0.2222222222222222, \"#7201a8\"], [0.3333333333333333, \"#9c179e\"], [0.4444444444444444, \"#bd3786\"], [0.5555555555555556, \"#d8576b\"], [0.6666666666666666, \"#ed7953\"], [0.7777777777777778, \"#fb9f3a\"], [0.8888888888888888, \"#fdca26\"], [1.0, \"#f0f921\"]]}, \"colorway\": [\"#636efa\", \"#EF553B\", \"#00cc96\", \"#ab63fa\", \"#FFA15A\", \"#19d3f3\", \"#FF6692\", \"#B6E880\", \"#FF97FF\", \"#FECB52\"], \"font\": {\"color\": \"#2a3f5f\"}, \"geo\": {\"bgcolor\": \"white\", \"lakecolor\": \"white\", \"landcolor\": \"#E5ECF6\", \"showlakes\": true, \"showland\": true, \"subunitcolor\": \"white\"}, \"hoverlabel\": {\"align\": \"left\"}, \"hovermode\": \"closest\", \"mapbox\": {\"style\": \"light\"}, \"paper_bgcolor\": \"white\", \"plot_bgcolor\": \"#E5ECF6\", \"polar\": {\"angularaxis\": {\"gridcolor\": \"white\", \"linecolor\": \"white\", \"ticks\": \"\"}, \"bgcolor\": \"#E5ECF6\", \"radialaxis\": {\"gridcolor\": \"white\", \"linecolor\": \"white\", \"ticks\": \"\"}}, \"scene\": {\"xaxis\": {\"backgroundcolor\": \"#E5ECF6\", \"gridcolor\": \"white\", \"gridwidth\": 2, \"linecolor\": \"white\", \"showbackground\": true, \"ticks\": \"\", \"zerolinecolor\": \"white\"}, \"yaxis\": {\"backgroundcolor\": \"#E5ECF6\", \"gridcolor\": \"white\", \"gridwidth\": 2, \"linecolor\": \"white\", \"showbackground\": true, \"ticks\": \"\", \"zerolinecolor\": \"white\"}, \"zaxis\": {\"backgroundcolor\": \"#E5ECF6\", \"gridcolor\": \"white\", \"gridwidth\": 2, \"linecolor\": \"white\", \"showbackground\": true, \"ticks\": \"\", \"zerolinecolor\": \"white\"}}, \"shapedefaults\": {\"line\": {\"color\": \"#2a3f5f\"}}, \"ternary\": {\"aaxis\": {\"gridcolor\": \"white\", \"linecolor\": \"white\", \"ticks\": \"\"}, \"baxis\": {\"gridcolor\": \"white\", \"linecolor\": \"white\", \"ticks\": \"\"}, \"bgcolor\": \"#E5ECF6\", \"caxis\": {\"gridcolor\": \"white\", \"linecolor\": \"white\", \"ticks\": \"\"}}, \"title\": {\"x\": 0.05}, \"xaxis\": {\"automargin\": true, \"gridcolor\": \"white\", \"linecolor\": \"white\", \"ticks\": \"\", \"title\": {\"standoff\": 15}, \"zerolinecolor\": \"white\", \"zerolinewidth\": 2}, \"yaxis\": {\"automargin\": true, \"gridcolor\": \"white\", \"linecolor\": \"white\", \"ticks\": \"\", \"title\": {\"standoff\": 15}, \"zerolinecolor\": \"white\", \"zerolinewidth\": 2}}}, \"width\": 1200, \"xaxis\": {\"anchor\": \"y\", \"domain\": [0.0, 0.2888888888888889]}, \"xaxis10\": {\"anchor\": \"y10\", \"domain\": [0.0, 0.2888888888888889]}, \"xaxis11\": {\"anchor\": \"y11\", \"domain\": [0.35555555555555557, 0.6444444444444445]}, \"xaxis12\": {\"anchor\": \"y12\", \"domain\": [0.7111111111111111, 1.0]}, \"xaxis2\": {\"anchor\": \"y2\", \"domain\": [0.35555555555555557, 0.6444444444444445]}, \"xaxis3\": {\"anchor\": \"y3\", \"domain\": [0.7111111111111111, 1.0]}, \"xaxis4\": {\"anchor\": \"y4\", \"domain\": [0.0, 0.2888888888888889]}, \"xaxis5\": {\"anchor\": \"y5\", \"domain\": [0.35555555555555557, 0.6444444444444445]}, \"xaxis6\": {\"anchor\": \"y6\", \"domain\": [0.7111111111111111, 1.0]}, \"xaxis7\": {\"anchor\": \"y7\", \"domain\": [0.0, 0.2888888888888889]}, \"xaxis8\": {\"anchor\": \"y8\", \"domain\": [0.35555555555555557, 0.6444444444444445]}, \"xaxis9\": {\"anchor\": \"y9\", \"domain\": [0.7111111111111111, 1.0]}, \"yaxis\": {\"anchor\": \"x\", \"domain\": [0.80625, 1.0]}, \"yaxis10\": {\"anchor\": \"x10\", \"domain\": [0.0, 0.19375]}, \"yaxis11\": {\"anchor\": \"x11\", \"domain\": [0.0, 0.19375]}, \"yaxis12\": {\"anchor\": \"x12\", \"domain\": [0.0, 0.19375]}, \"yaxis2\": {\"anchor\": \"x2\", \"domain\": [0.80625, 1.0]}, \"yaxis3\": {\"anchor\": \"x3\", \"domain\": [0.80625, 1.0]}, \"yaxis4\": {\"anchor\": \"x4\", \"domain\": [0.5375, 0.73125]}, \"yaxis5\": {\"anchor\": \"x5\", \"domain\": [0.5375, 0.73125]}, \"yaxis6\": {\"anchor\": \"x6\", \"domain\": [0.5375, 0.73125]}, \"yaxis7\": {\"anchor\": \"x7\", \"domain\": [0.26875, 0.4625]}, \"yaxis8\": {\"anchor\": \"x8\", \"domain\": [0.26875, 0.4625]}, \"yaxis9\": {\"anchor\": \"x9\", \"domain\": [0.26875, 0.4625]}},\n",
       "                        {\"responsive\": true}\n",
       "                    ).then(function(){\n",
       "                            \n",
       "var gd = document.getElementById('42b9750a-781c-467f-a687-be0af822c0fd');\n",
       "var x = new MutationObserver(function (mutations, observer) {{\n",
       "        var display = window.getComputedStyle(gd).display;\n",
       "        if (!display || display === 'none') {{\n",
       "            console.log([gd, 'removed!']);\n",
       "            Plotly.purge(gd);\n",
       "            observer.disconnect();\n",
       "        }}\n",
       "}});\n",
       "\n",
       "// Listen for the removal of the full notebook cells\n",
       "var notebookContainer = gd.closest('#notebook-container');\n",
       "if (notebookContainer) {{\n",
       "    x.observe(notebookContainer, {childList: true});\n",
       "}}\n",
       "\n",
       "// Listen for the clearing of the current output cell\n",
       "var outputEl = gd.closest('.output');\n",
       "if (outputEl) {{\n",
       "    x.observe(outputEl, {childList: true});\n",
       "}}\n",
       "\n",
       "                        })\n",
       "                };\n",
       "                });\n",
       "            </script>\n",
       "        </div>"
      ]
     },
     "metadata": {},
     "output_type": "display_data"
    }
   ],
   "source": [
    "df=final\n",
    "\n",
    "plot_rows=4\n",
    "plot_cols=3\n",
    "fig = make_subplots(rows=plot_rows, cols=plot_cols)\n",
    "\n",
    "# add traces\n",
    "x = 0\n",
    "for i in range(1, plot_rows + 1):\n",
    "    for j in range(1, plot_cols + 1):\n",
    "        #print(str(i)+ ', ' + str(j))\n",
    "        fig.add_trace(go.Scatter(x=df.index, y=df[df.columns[x]].values,\n",
    "                                 name = df.columns[x],\n",
    "                                 mode = 'lines'),\n",
    "                     row=i,\n",
    "                     col=j)\n",
    "\n",
    "        x=x+1\n",
    "\n",
    "# Format and show fig\n",
    "fig.update_layout(height=1200, width=1200)\n",
    "fig.show()"
   ]
  },
  {
   "cell_type": "markdown",
   "metadata": {},
   "source": [
    "## Conclusion\n",
    "In order to increase retention the following actions should be considered:\n",
    "1. Promote zoom in/out functionality, make sure it works as intended and users are aware of it. \n",
    "2. Promote the importance of making annotations and make sure users are aware of annotations visibility settings\n",
    "3. Promote functionality related to counours, i.e. setting and layers\n",
    "4. Visualiser is the one the most important features of the app so as design file layer settings\n",
    "\n",
    "The functionality highlighted above should have priority in bug fuxing, traning and promo materials.\n"
   ]
  },
  {
   "cell_type": "markdown",
   "metadata": {},
   "source": [
    "#### P.S.\n",
    "only after significant time invested I realised that retention cohort analysis would produce more accurate results =/ \n",
    "however I hope that I tried 'to work it out', plus implementation in code would do for the given task. \n",
    "if not, Arnold, I'm sorry and thanks for having a good chat with me and your professional approach, you are the champ. "
   ]
  },
  {
   "cell_type": "code",
   "execution_count": null,
   "metadata": {},
   "outputs": [],
   "source": []
  }
 ],
 "metadata": {
  "kernelspec": {
   "display_name": "Python 3",
   "language": "python",
   "name": "python3"
  },
  "language_info": {
   "codemirror_mode": {
    "name": "ipython",
    "version": 3
   },
   "file_extension": ".py",
   "mimetype": "text/x-python",
   "name": "python",
   "nbconvert_exporter": "python",
   "pygments_lexer": "ipython3",
   "version": "3.7.4"
  }
 },
 "nbformat": 4,
 "nbformat_minor": 2
}
